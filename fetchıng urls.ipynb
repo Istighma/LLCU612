{
 "cells": [
  {
   "cell_type": "code",
   "execution_count": 2,
   "metadata": {},
   "outputs": [
    {
     "name": "stdout",
     "output_type": "stream",
     "text": [
      "<html>\n",
      "<head>\n",
      "<meta content=\"text/html; charset=utf-8\" http-equiv=\"Content-Type\"/>\n",
      "<title>.:: Ä°stanbul KadÄ± Sicilleri ::. </title>\n",
      "<link href=\"style.css\" rel=\"stylesheet\" type=\"text/css\"/>\n",
      "</head>\n",
      "<body background=\"images/fon.jpg\">\n",
      "<div align=\"center\">\n",
      "<table border=\"0\" bordercolor=\"#111111\" cellpadding=\"0\" cellspacing=\"0\" height=\"752\" id=\"AutoNumber1\" style=\"border-collapse: collapse\" width=\"960\">\n",
      "<tr>\n",
      "<td align=\"center\" bgcolor=\"#FAFAFA\" height=\"48\" width=\"111\"><img height=\"47\" src=\"images/logo.jpg\" width=\"82\"/></td>\n",
      "<td align=\"left\" bgcolor=\"#FAFAFA\" class=\"header\" height=\"48\" width=\"370\"><span class=\"buton\">Ä°STANBUL 2010 AVRUPA KÃLTÃR BAÅKENTÄ°<br/>\n",
      "<br/>\n",
      "TÃRKÄ°YE DÄ°YANET VAKFI Ä°SLÃM ARAÅTIRMALARI MERKEZÄ° </span></td>\n",
      "<td align=\"right\" bgcolor=\"#FAFAFA\" class=\"headers\" height=\"48\" width=\"475\"><img height=\"38\" src=\"images/ans.png\" width=\"256\"/></td>\n",
      "</tr>\n",
      "<tr>\n",
      "<td align=\"center\" bgcolor=\"#FFFFFF\" colspan=\"3\" height=\"10\" valign=\"top\" width=\"958\">\n",
      "<img border=\"0\" height=\"10\" src=\"images/shadow.png\" width=\"607\"/></td>\n",
      "</tr>\n",
      "<tr>\n",
      "<td align=\"left\" bgcolor=\"#FDFDFD\" class=\"menu\" colspan=\"2\" height=\"39\" width=\"478\"><a href=\"index.php\"><img border=\"0\" height=\"32\" src=\"images/asayfa.jpg\" width=\"105\"/></a><a href=\"madde.php\"><img border=\"0\" height=\"32\" src=\"images/madde.jpg\" width=\"105\"/></a><a href=\"kullanim.php\"><img border=\"0\" height=\"32\" src=\"images/kilavuz.jpg\" width=\"105\"/></a></td>\n",
      "<td bgcolor=\"#FDFDFD\" height=\"39\" width=\"475\">\n",
      "<div align=\"right\">\n",
      "<form action=\"madde.php\" id=\"ara\" method=\"get\" target=\"_self\">\n",
      "<input class=\"buton\" name=\"klme\" type=\"text\"/>\n",
      "<select class=\"buton\" name=\"trch\">\n",
      "<option value=\"hkm\">HÃ¼kÃ¼m</option>\n",
      "<option value=\"tnm\">TanÄ±m</option>\n",
      "</select>\n",
      "<input class=\"buton\" name=\"-find\" type=\"submit\" value=\" ARA \"/>\n",
      "</form>\n",
      "</div></td>\n",
      "</tr>\n",
      "<tr>\n",
      "<td align=\"center\" bgcolor=\"#FFFFFF\" colspan=\"3\" height=\"10\" valign=\"top\" width=\"958\">\n",
      "<img border=\"0\" height=\"10\" src=\"images/shadow.png\" width=\"607\"/></td>\n",
      "</tr>\n",
      "<tr>\n",
      "<td align=\"center\" bgcolor=\"#FFFFFF\" colspan=\"2\" height=\"603\" valign=\"top\" width=\"482\">\n",
      "<iframe frameborder=\"0\" height=\"588\" name=\"arama\" scrolling=\"auto\" src=\"./arascl/liste.php\" width=\"400\"></iframe>\n",
      "<br/>\n",
      "</td>\n",
      "<td bgcolor=\"#FAFAFA\" height=\"603\" width=\"475\">\n",
      "<iframe frameborder=\"0\" height=\"588\" name=\"detay\" scrolling=\"auto\" src=\"./arascl/ayr4.php\" width=\"530\"></iframe> </td>\n",
      "</tr>\n",
      "<tr>\n",
      "<td align=\"center\" bgcolor=\"#FFFFFF\" colspan=\"3\" height=\"10\" width=\"958\">\n",
      "<img border=\"0\" height=\"10\" src=\"images/shadow.png\" width=\"607\"/></td>\n",
      "</tr>\n",
      "<tr>\n",
      "<td align=\"left\" bgcolor=\"#FAFAFA\" class=\"menu\" colspan=\"2\" height=\"32\" width=\"475\">Â©2014 TDV Ä°slÃ¢m AraÅtÄ±rmalarÄ± Merkezi</td>\n",
      "<td bgcolor=\"#FAFAFA\" height=\"32\" width=\"475\"> </td>\n",
      "</tr>\n",
      "</table>\n",
      "</div></body></html>\n",
      "\n",
      "\n",
      "\n"
     ]
    }
   ],
   "source": [
    "import os\n",
    "import requests\n",
    "from urllib.parse import urljoin\n",
    "from bs4 import BeautifulSoup\n",
    "\n",
    "url = \"http://www.kadisicilleri.org/yayin.php\" #the link where all the pdfs appear in the interface\n",
    "\n",
    "folder_location = '/home/otzy/Desktop/uskudar/'\n",
    "if not os.path.exists(folder_location):os.mkdir(folder_location)\n",
    "\n",
    "response = requests.get(url)\n",
    "soup= BeautifulSoup(response.text, \"html.parser\")     \n",
    "print(soup)"
   ]
  },
  {
   "cell_type": "code",
   "execution_count": null,
   "metadata": {},
   "outputs": [],
   "source": []
  }
 ],
 "metadata": {
  "kernelspec": {
   "display_name": "Python 3",
   "language": "python",
   "name": "python3"
  },
  "language_info": {
   "codemirror_mode": {
    "name": "ipython",
    "version": 3
   },
   "file_extension": ".py",
   "mimetype": "text/x-python",
   "name": "python",
   "nbconvert_exporter": "python",
   "pygments_lexer": "ipython3",
   "version": "3.7.1"
  }
 },
 "nbformat": 4,
 "nbformat_minor": 2
}
