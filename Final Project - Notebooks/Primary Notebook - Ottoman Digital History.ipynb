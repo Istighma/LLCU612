{
 "cells": [
  {
   "cell_type": "markdown",
   "metadata": {},
   "source": [
    "# Text analysis of 16th and 17th century Ottoman Legal Courts' Catalogues\n",
    "\n",
    "This project is about a particular type of contract in Konstaniyye(Constantinople) and the wider Istanbul(the surroundings of Constantinople between 1513 and 1691. The strong bureaucracy of the Ottoman Empire during this period produced a vast corpus of Islamic court documents still extant up to this day. They have been digitalized and are available on the website http://kadisicilleri.org/(technical information about these below).\n",
    "\n",
    "These catalogues are relevant because they are court documents in which people often report about temessuk and their content. Often, of course, to solve issues with the help of an Islamic judge(Kadi). The catalogues are thus full of entries containing information about the peculiar contracts named temessuk. I thus intend to extract the catalogues' entries that contain the word temessuk.\n",
    "\n",
    "The temessuk was a privately issued contract between 2 or more parties on which various issues regarding an incomplete transaction, a debt, was recorded. (Aykan, 2016) Monetary history of the Ottoman Empire usually claims that tangible money was scarce in the Ottoman Empire with a particular crisis in the late 16th century, a time period covered by our documents.(Pamuk, 2003)\n",
    "\n",
    "In the following literary analysis, I hope to uncover four things: first (1) I ask whether the temessuk's occurrences in the court documents changed over time; then (2) I question what whether the debt recorded by the contract was in money or in other forms of goods; (3) I interrogate the documents to know whether women took part in the use of the temessuk or not; and finally I cross-reference points two and three in order to understand on what basis women could be excluded from the concerns of and discussions about these contracts. In order to propose answers to these questions, I am at producing various quantitative approaches to the documents. I want to use the word frequency of terms and a sentiment analysis inspired approach to evaluate both gender and the kinds of money used in temessuks.\n",
    "\n",
    "However, this paper project is not only about history per se, it is also about digital humanities. In itself, it is a step away from Stephan Marche's accusation of computational humanities as a reduction of human culture(2012). But beyond being a counter-argument to anti-technology academics, what is digital humanities?  Digital humanities, as Andrew Piper as suggested, is about the \"merger of two entire fields.(Piper, 2018).\" This researcher also specifies that Stéfan Sinclair has suggested that Digital Humanities imply contributions in various forms such as the building of programs of recipes.  Recipes are a simple \"Rather than starting with the technologies of analytics and their jargon\" to help new learners visualize and ask simple questions \"a humanist may want to do\" (Stéfan Sinclair & Geoffrey Rockwell, 2012). I think of this project as a program-recipe for future Ottoman historians who want to learn programming using the same corpus of sources I do. Also, this work has benefited from the collaboration of pairs either from forums or from Professor Stéfan Sinclair and other colleagues. In that sense, also, this paper corresponds to Mendell's definition of digital scholarship: I am not only a \"content provider\", nor have I worked through this program by myself (Mandell, 2012). Finally, the very form of this text highlights how it belongs to the field of digital humanities: it is accessible for free to anyone with a connection to the Internet. Lack other forms of digital scholarship, thus, my project has the possibility of having much more impact, than a conventional scholarship (Piper, 2018).\n",
    "\n",
    "But First, let's import the documents, clean them, and push them on github for the wider community of Ottoman historians to use!"
   ]
  },
  {
   "cell_type": "markdown",
   "metadata": {},
   "source": [
    "I wasn't able to automatize the download of the documents from the web over 40 catalogues from the website http://kadisicilleri.org/. So I downloaded them by hand. They were in PDF format, so I used Voyant's 'Document' function(http://voyant-tools.org/) to convert them into '.txt' files. I then manually placed them in a file, and also manually renamed the files according to their date. This will allow us to do chronological analysis below.\n",
    "\n",
    "Now, I propose to use regular expressions and os to analyse the organize and clean the documents that I placed in a particular file for this project by matching particular patterns found in them, and then erasing them."
   ]
  },
  {
   "cell_type": "code",
   "execution_count": 5,
   "metadata": {},
   "outputs": [
    {
     "name": "stdout",
     "output_type": "stream",
     "text": [
      "['1613-1615 galata 37.txt', '1577-1578 galata 7.txt', '1573-1591 galata 15.txt', '1663-1663 galata 90.txt', '1675-1676 istanbul 18.txt', '1618-1618 istanbul 3.txt', '1524-1530 uskudar 5.txt', '1594-1595 rumeli 21.txt', '1670-1671 eyup 82.txt', '1612-1643 haskoy 5.txt', '1641-1644 galata 65.txt', '1647-1649 rumeli 80.txt', '1582-1583 uskudar 56.txt', '1633-1633 rumeli 56.txt', '1590-1591 uskudar 84.txt', '1637-1638 eyup 37.txt', '1579-1580 uskudar 51.txt', '1655-1655 eyup 61.txt', '1546-1549 uskudar 2.txt', '1585-1587 eyup 3.txt', '1606-1607 galata 32.txt', '1691-1691 bab 54.txt', '1726-1738 istanbul 24.txt', '1679-1680 eyup 90.txt', '1615-1620 galata 46.txt', '1644-1644 eyup 49.txt', '1546-1549 uskudar 14.txt', '1563-1563 balat 2.txt', '1619-1620 eyup 19.txt', '1663-1664 istanbul 12.txt', '1685-1686 bab 46.txt', '1549-1556 uskudar 17 .txt', '1575-1576 Galata 5.txt', '1666-1667 bab 3.txt', '1534-1536 uskudar 9 .txt', '1674-1679 haskoy 10.txt', '1661-1662 eyup 74.txt', '1562-1563 uskudar 26.txt', '1513-1521 uskudar 1.txt', '1596-1599 galata 20.txt']\n"
     ]
    }
   ],
   "source": [
    "import os        #import os, a virtual operating system         \n",
    "import re\n",
    "import regex     #import regex, allows look arounds functions others not support by python3.x (it is 'pip-install'ed)\n",
    "path = \"/home/otzy/local_directory/Final Project/corpora/\"       #determines path\n",
    "os.chdir(path)           #changes the directory to determined path\n",
    "filenames = os.listdir(path)        #creates variable filenames based on the lists of the docuements.\n",
    "print(filenames)                    #prints filenames"
   ]
  },
  {
   "cell_type": "code",
   "execution_count": 6,
   "metadata": {
    "scrolled": true
   },
   "outputs": [
    {
     "name": "stdout",
     "output_type": "stream",
     "text": [
      "KONU BAŞLIKLARI\n",
      "\n",
      "1 [1b-1] Mîrî esirlerden Batista’nın serbest bırakıldığı / 51\n",
      "2 [1b-2] Nardo adlı esirin serbest bırakıldığı / 51\n",
      "3 [1b-3] Borç ikrarı / 51\n",
      "4 [1b-4] Abdi Bölükbaşı’nın vasiyeti uyarınca Cafer Bey’e on iki bin akçe \n",
      "\n",
      "teslim edildiği / 51\n",
      "5 [1b-5] Ölen oğlunun mirasından annesine hissesinin verildiği / 51\n",
      "6 [1b-6] Küçüğün ana para ve kârından doğan alacağının üçüncü \n",
      "\n",
      "kişice ödendiği / 51\n",
      "7 [1b-7] Bölükbaşı’nın vasiyeti / 52\n",
      "8 [2a-1] Yakub Kethüdâ Vakfı’nın, ölen Memi Bey’de alacağı olduğu / 52\n",
      "9 [2a-2] Emine Hatun’un parasının bezzâzistan kethüdâsına emaneten verildiği / 52\n",
      "10 [2a-3] Ali Reis’in karısının parasının kethüdâya emaneten verildiği / 52\n",
      "11 [2a-4] Muhyiddin Efendi mahallesinde ölen Râbia’nın terekesinin satıldığı / 52\n",
      "12 [2a-5] Mudârebe olarak verilen paranın tamamen geri alındığına dair / 53\n",
      "13 [2a-6] Mudârebe olarak verilen paranın geri alındığı / 53\n",
      "14 [2b-1] İki kardeşin tereke davasında sulh oldukları / 53\n",
      "15 [2b-2, Arapça] Rahime adlı çocuğa vasî, vasîye de nâzır atandığı / 54\n",
      "16 [2b-3, Arapça] Âişe Hatun’un ev satın aldığı / 54\n",
      "17 [2b-4, Arapça] Rahime adlı çocuğa nafaka takdiri / 55\n",
      "18 [2b-5, Arapça] Sâliha adlı çocuğa nafaka takdiri / 55\n",
      "19 [3a-1, Arapça] Receb’in mirasçısının kardeşi olduğu / 55\n",
      "\n",
      "\n",
      "\n",
      "\n",
      "İ S T A N B U L  K A D I  S İC İ L L E R İ\n",
      "\n",
      "28\n",
      "\n",
      "20 [3a-2] İstiğlâl yoluyla satılan ev bedelini vakfa ödemeyen miras bırakanın \n",
      "terekesinden borcun ödendiği / 56\n",
      "\n",
      "21 [3a-3] Hacı Memi’nin terekesinden Hacı Mustafa’nın alacağının ödendiği / 57\n",
      "22 [3a-4] Hacı Memi’nin terekesinden Mehmed Çelebi’nin alacağının ödendiği / 57\n",
      "23 [3b-1] Miras payının alındığı / 58\n",
      "24 [3b-2] Yunus Bey’in hastalığı sebebiyle vasîlikten çekildiği / 58\n",
      "25 [3b-3] Emtia bedelinin alındığı / 59\n",
      "26 [3b-4, Arapça] Havva adlı çocuğa vasî atandığı / 59\n",
      "27 [3b-5] Mehmed b. Nasuh’un terekesi / 60\n",
      "28 [4a-1, Arapça] Ali adlı çocuğa vasî atandığı / 61\n",
      "29 [4a-2, Arapça] Mehmed adlı çocuğa nafaka takdiri / 61\n",
      "30 [4a-3, Arapça] Fâtıma adlı çocuğa vasî atandığı / 62\n",
      "31 [4a-4, Ar\n"
     ]
    }
   ],
   "source": [
    "for filename in filenames:              #loop through all individual files printed above\n",
    "    with open(path+filename, 'r') as f: #read and write in file\n",
    "        string = f.read()               #transform the document into a workable string\n",
    "        start = string.find(\"KONU BAŞLIKLARI\\n\") #finds index of Konu baskilari followed by blank space\n",
    "        string = string[start:]                  #determines new start in the document based on preceding step\n",
    "        with open(path+filename, 'w') as f:      #open the file as 'writable'\n",
    "            f.write(string)                      #write the string\n",
    "print(string[:2000])                             #print first 2000 index of last document in loops\n",
    "                                                 #to confirm effectivity of string."
   ]
  },
  {
   "cell_type": "markdown",
   "metadata": {},
   "source": [
    "These documents are already useful in their form: they start exactly where the primary sources start. Yet much noise remains in all catalogues. In the above text, before the beginning of the source (identified by the first numbers in a pair of brackets), we see the title of the section, page headings(repeated on every page), page numbers and footnotes. Although we do not the latter, these are characterized by a star at the beginning of the line ('*'). \n",
    "For instance: \"\\n* Metinde “olmamağla”.\\n\"\n",
    "\n",
    "To ensure that such noise doesn't interfere with the making the individual documents, the documents must be cleaned further. Thanks to regex and the re.sub() function, it isn't that hard. The challenge is rather in making efficient and short regular expressions that guarantees the cleaning efficacy and saving in CPU.\n",
    "\n",
    "I decided to replace the substrings below with '\\n\\n' to ensure that there is no misregrouping of paragraphs. I would not want catalogue entries to be mixed with one another."
   ]
  },
  {
   "cell_type": "code",
   "execution_count": 7,
   "metadata": {},
   "outputs": [],
   "source": [
    "for filename in filenames:              #start looping through filenames\n",
    "    with open(path+filename, 'r') as f: #open doc as readable\n",
    "        string = f.read()               #string becomes doc text content\n",
    "        string = re.sub(r\"KONU BAŞLIKLARI\", \"\\n\\n\", string) #replaces section title with \\n\\n\n",
    "        string = re.sub(r\"\\n.*sicil[.]indd.*\\n\", \"\\n\\n\", string) #replaces source creation time with \\n\\n\n",
    "        string = re.sub(r\"\\n([A-Z]\\s|İ\\s|Ü\\s).*\\n\\n[0-9]+\", \"\\n\\n\", string) #replaces page heading and page number with \\n\\n\n",
    "        string = re.sub(r\"(\\n)*[*].*(\\n)*\", \"\", string) #removes footnotes\n",
    "        string = re.sub(r\"(\\n)+(?=[a-z])\", \"\\n\", string) #replaces a series of empty lines followed by a letter by \\n\n",
    "    with open(path+filename, 'w') as f:               #open as writable\n",
    "        f.write(string)                               #replace document content with string"
   ]
  },
  {
   "cell_type": "markdown",
   "metadata": {},
   "source": [
    "After exploring manually some chunks of the document, I conclude that the results are satisfying, but two problems remain. \n",
    "First, there are a few '0' or '004' written at the beginning of a empty lines with no other character on the same line. These must be left overs from some of the source creation time.\n",
    "Second, there are many spaces within the text. So I have to regroup the entries that belong together. For this I use once more the re re.sub() function."
   ]
  },
  {
   "cell_type": "code",
   "execution_count": 8,
   "metadata": {},
   "outputs": [],
   "source": [
    "for filename in filenames:\n",
    "    with open(path+filename, 'r+') as f: # r+ to read & write in file\n",
    "        string = f.read()\n",
    "        string = re.sub(\"^[0-9]+\\n\", \"\", string)                    #replaces page numbers\n",
    "        string = re.sub(\"(\\n)+(?=[A-Za-z]|Ş|İ|i|Ü|ü|Ö|ö|ğ|Ğ|-)\", \"\\n\", string) #same as earlier includes the turkish-specific characteres\n",
    "    with open(path+filename, 'w') as f:\n",
    "        f.write(string)"
   ]
  },
  {
   "cell_type": "markdown",
   "metadata": {},
   "source": [
    "After exploring manually chunks of the larger documents, I observe that the some re.sub() has trouble reading certain lines that begin with \"Şuhûdü’l-hâl\" and \"Fi’l-yevmi’\", so I'll have to readjust the document once more wiht with a re.sub() specific to both these terms. It's important to do so because both terms appear in nearly all entries as they respectivally mean \"witness\" and \"in the date of\"."
   ]
  },
  {
   "cell_type": "code",
   "execution_count": 9,
   "metadata": {},
   "outputs": [],
   "source": [
    "for filename in filenames:           #loop through filenmaes\n",
    "    with open(path+filename, 'r+') as f: # r+ to read & write in file\n",
    "        string = f.read()                  \n",
    "        string = re.sub(\"\\n+(?=Şuhûdü’l-hâl.*)\", \"\\n\", string) #unifies witnesses of entry with entry\n",
    "        string = re.sub(\"\\n+(?=Fi’l-yevmi’.*)\", \"\\n\", string) # unifies date of entry with entry\n",
    "    with open(path+filename, 'w') as f:          #open as writable\n",
    "        f.write(string)                          #write new string"
   ]
  },
  {
   "cell_type": "markdown",
   "metadata": {},
   "source": [
    "There are still some faults, and I think this is because of the Turkish script. But the mistakes are marginal as most paragraphs are delineated properly. Good job!\n",
    "\n",
    "Let's make these clean documents available to the wider public of Ottoman Historians and programmers. I decided to do this manually. I simply dragged and drop the file named Corpora into my github and committed all the documents. The documents can be found at: https://github.com/Istighma/LLCU612/tree/master/Corpora.\n",
    "\n",
    "I can now move on to answer, at least partially, my first question regarding temessuk: did the occurrence of the temessuk contract changed overtime? If so, how? The best way to answer this is to use build a graph that shows chronologically the number of occurrences of the word temessuk. Thanks to some previous non-automated work, the files are named by date and are thus organized chronologically.\n",
    "\n",
    "Enough talking, let's get graphical!"
   ]
  },
  {
   "cell_type": "code",
   "execution_count": 10,
   "metadata": {},
   "outputs": [],
   "source": [
    "import nltk #Natural language processing\n",
    "import matplotlib.pyplot as plt #allows plotting of data in graphs"
   ]
  },
  {
   "cell_type": "code",
   "execution_count": 11,
   "metadata": {},
   "outputs": [
    {
     "name": "stdout",
     "output_type": "stream",
     "text": [
      "{'1613-1615 galata 37.txt': 3, '1577-1578 galata 7.txt': 1, '1573-1591 galata 15.txt': 33, '1663-1663 galata 90.txt': 17, '1675-1676 istanbul 18.txt': 32, '1618-1618 istanbul 3.txt': 30, '1524-1530 uskudar 5.txt': 2, '1594-1595 rumeli 21.txt': 4, '1670-1671 eyup 82.txt': 5, '1612-1643 haskoy 5.txt': 9, '1641-1644 galata 65.txt': 5, '1647-1649 rumeli 80.txt': 0, '1582-1583 uskudar 56.txt': 0, '1633-1633 rumeli 56.txt': 10, '1590-1591 uskudar 84.txt': 24, '1637-1638 eyup 37.txt': 19, '1579-1580 uskudar 51.txt': 8, '1655-1655 eyup 61.txt': 9, '1546-1549 uskudar 2.txt': 8, '1585-1587 eyup 3.txt': 14, '1606-1607 galata 32.txt': 6, '1691-1691 bab 54.txt': 43, '1726-1738 istanbul 24.txt': 4, '1679-1680 eyup 90.txt': 30, '1615-1620 galata 46.txt': 2, '1644-1644 eyup 49.txt': 16, '1546-1549 uskudar 14.txt': 0, '1563-1563 balat 2.txt': 1, '1619-1620 eyup 19.txt': 28, '1663-1664 istanbul 12.txt': 43, '1685-1686 bab 46.txt': 77, '1549-1556 uskudar 17 .txt': 2, '1575-1576 Galata 5.txt': 2, '1666-1667 bab 3.txt': 32, '1534-1536 uskudar 9 .txt': 5, '1674-1679 haskoy 10.txt': 13, '1661-1662 eyup 74.txt': 32, '1562-1563 uskudar 26.txt': 22, '1513-1521 uskudar 1.txt': 2, '1596-1599 galata 20.txt': 10}\n"
     ]
    }
   ],
   "source": [
    "dict_frequency = {} #create dictionary\n",
    "for filename in filenames:  #for loop to pass all files through the following command\n",
    "    with open(path+filename, 'r') as f: #open file name in path and read\n",
    "        string = f.read() #create string by reading doc\n",
    "        count = string.count(\"temessük\") #create _int_ data to create a value to join to dictionary key\n",
    "    if filename not in dict_frequency: #adds filename to the dictionary\n",
    "        dict_frequency[filename] = 0 #writes  value 0 to key\n",
    "    dict_frequency[filename] = dict_frequency[filename] + count  #adds _int_'count' to value \n",
    "print(dict_frequency)  #print dictionary"
   ]
  },
  {
   "cell_type": "markdown",
   "metadata": {},
   "source": [
    "In order to transform this data set in a chronological graph, the best thing to do is to sort out the dictionary entry by ascending order."
   ]
  },
  {
   "cell_type": "code",
   "execution_count": 12,
   "metadata": {},
   "outputs": [
    {
     "data": {
      "text/plain": [
       "Text(0, 0.5, 'Occurences of temessük')"
      ]
     },
     "execution_count": 12,
     "metadata": {},
     "output_type": "execute_result"
    },
    {
     "data": {
      "image/png": "[encoded data removed]",
      "text/plain": [
       "<Figure size 432x288 with 1 Axes>"
      ]
     },
     "metadata": {
      "needs_background": "light"
     },
     "output_type": "display_data"
    }
   ],
   "source": [
    "graphicable = list(sorted(nltk.FreqDist(dict_frequency).items())) # sorted by ascending order(not frequency)\n",
    "year = [f[0] for f in graphicable]            # x becomes key's name\n",
    "LengthValues = [f[1] for f in graphicable]    # y becomes key's value\n",
    "plt.plot(year, LengthValues)                  # situates fct(x, y)\n",
    "plt.xlabel('Years (Gregorian Calendar)')      # X Label names\n",
    "plt.ylabel('Occurences of temessük')          # y label names"
   ]
  },
  {
   "cell_type": "markdown",
   "metadata": {},
   "source": [
    "Unfortunately, I haven't been able to change the angle of the independent variable. And I lack the time to explore ObservableHQ to solve this issue in another program. However, in the meantime, we can see that there is an evolution over the 150 years that concern this project. Why is there an overtime augmentation? I do not know, and to provide an answer, one needs to move beyond these primary sources and look at secondary material discussing Ottoman economic history."
   ]
  },
  {
   "cell_type": "markdown",
   "metadata": {},
   "source": [
    "### Extracting paragraphs containing the word temessük\n",
    "\n",
    "I can now move on to extract the paragraphs containing the concept concerning my project, temessuk, or contract. For this, thanks to Professor Stéfan Sinclair, I was able to produce a \"paragraph extractor.\" It takes all paragraphs containing the word temessuk and turns them into its own individual document. Let's remember that because of the cleaning done earlier, one paragraph is equivalent to one full-court entry."
   ]
  },
  {
   "cell_type": "code",
   "execution_count": 13,
   "metadata": {},
   "outputs": [],
   "source": [
    "paragraphs = [] # track paragraphs\n",
    "for filename in filenames:\n",
    "    with open(path+filename, 'r') as f:\n",
    "        string = f.read()\n",
    "    pos = 0 # initial position marker (assuming our keyword isn't at the very start)\n",
    "    while(pos>-1): # loop while we have a match\n",
    "        pos = string.find(\"temessük\", pos+1) # find next match\n",
    "        leftNewLine = string.rfind(\"\\n\\n\", 0, pos) # find previous newline\n",
    "        rightNewLine = string.find(\"\\n\\n\", pos) # find next newline\n",
    "        paragraph = string[leftNewLine+2:rightNewLine] # isolate paragraph\n",
    "        if paragraph: # if we have a non-empty string\n",
    "            paragraphs.append(paragraph) # add it to the paragraphs\n",
    "os.mkdir(path+'temessuke ilgili kaynaklar')   #creates new directory\n",
    "os.chdir(path+'temessuke ilgili kaynaklar')   #changes directory\n",
    "for i, paragraph in enumerate(paragraphs):    #loop through orders number and names in enumerate(paragraphs)\n",
    "    filename = '{0:03d}'.format(i)+'.txt'     #filename starts with three digit, ends with .txt\n",
    "    with open(filename, 'w') as f:            #open filename as writable\n",
    "        f.write(paragraph)                    #writes paragraph"
   ]
  },
  {
   "cell_type": "markdown",
   "metadata": {},
   "source": [
    "Now, all matters are set. We have our paragraphs, and we can now procede with a sentiment analysis."
   ]
  },
  {
   "cell_type": "markdown",
   "metadata": {},
   "source": [
    "# Contracts: money or goods?\n",
    "As discussed earlier, the second problematic concerns whether the debt recorded by contract was in money or in valuable goods. From experience with these primary sources and as acknowledged by Pamuk, I can affirm that money is indicated by two particular words: akçe and guruş(Pamuk, 2003). Contracts containing these terms necessarily imply money, since both terms serve as a unit of account to describe sums of tangible money. Thus, if these words are present in a paragraph containing the word temessuk, one can assume that the contract in question is being discussed at least partially in terms of money, whether in the contract or as a means to solve a conflict within the contract.\n",
    "\n",
    "The sentiment analysis approach is a good way to assess whether money or valuable goods were used in discussing the temessuk contracts. Let us not be misguided by the name of this approach, however, for sentiment analysis aims only at expressing a method that evaluates the value of a text according to a binary standard. The best opportunity I see with the analysis of temessuk through a sentiment analysis is an analysis of whether exchange in contracts was made by discussing tangible money or through goods (quantity of boats, heritage, property).\n",
    "\n",
    "For this, I have thought of a binary list implying words related to fixed monetary units (see in the dictionary below). I have also decided to attribute no negative value to this 'sentiment analysis', for my goal is to show whether a contract did or did not use money(akçe and guruş).\n",
    "\n",
    "A clear limitation in this approach is that it will not provide any information about what was used to discuss value in contracts when money wasn't discussed.\n",
    "\n",
    "To answer this second problematic, we have to create a dictionary with the appropriate values."
   ]
  },
  {
   "cell_type": "code",
   "execution_count": 14,
   "metadata": {},
   "outputs": [],
   "source": [
    "kind_money = {         #opens dictionary\n",
    "    \"tangible money\": {            #opens first sub-dictionary called 'tangible money'\n",
    "        'akçe': 1,                 #first sign of tangible money\n",
    "        'kuruş': 1                 #first sign of tangible money \n",
    "    }\n",
    "} #close dictionary kind_money{}"
   ]
  },
  {
   "cell_type": "markdown",
   "metadata": {},
   "source": [
    "Once the dictionary is done, we can associate a value to the each documents and then quantify how many documents discussed money."
   ]
  },
  {
   "cell_type": "code",
   "execution_count": 15,
   "metadata": {},
   "outputs": [
    {
     "name": "stdout",
     "output_type": "stream",
     "text": [
      "{'000.txt': 0, '001.txt': 0, '002.txt': 0, '003.txt': 0, '004.txt': 4, '005.txt': 0, '006.txt': 0, '007.txt': 0, '008.txt': 0, '009.txt': 0, '010.txt': 5, '011.txt': 5, '012.txt': 2, '013.txt': 0, '014.txt': 0, '015.txt': 0, '016.txt': 0, '017.txt': 0, '018.txt': 0, '019.txt': 3, '020.txt': 0, '021.txt': 2, '022.txt': 0, '023.txt': 0, '024.txt': 0, '025.txt': 0, '026.txt': 0, '027.txt': 2, '028.txt': 3, '029.txt': 0, '030.txt': 6, '031.txt': 1, '032.txt': 1, '033.txt': 0, '034.txt': 0, '035.txt': 2, '036.txt': 0, '037.txt': 1, '038.txt': 0, '039.txt': 0, '040.txt': 0, '041.txt': 0, '042.txt': 17, '043.txt': 3, '044.txt': 3, '045.txt': 1, '046.txt': 0, '047.txt': 0, '048.txt': 1, '049.txt': 1, '050.txt': 1, '051.txt': 1, '052.txt': 1, '053.txt': 1, '054.txt': 1, '055.txt': 1, '056.txt': 1, '057.txt': 0, '058.txt': 8, '059.txt': 0, '060.txt': 0, '061.txt': 0, '062.txt': 1, '063.txt': 0, '064.txt': 0, '065.txt': 0, '066.txt': 0, '067.txt': 0, '068.txt': 0, '069.txt': 0, '070.txt': 0, '071.txt': 0, '072.txt': 0, '073.txt': 0, '074.txt': 0, '075.txt': 1, '076.txt': 1, '077.txt': 1, '078.txt': 0, '079.txt': 0, '080.txt': 3, '081.txt': 3, '082.txt': 3, '083.txt': 1, '084.txt': 1, '085.txt': 5, '086.txt': 5, '087.txt': 5, '088.txt': 5, '089.txt': 0, '090.txt': 0, '091.txt': 0, '092.txt': 0, '093.txt': 0, '094.txt': 0, '095.txt': 0, '096.txt': 0, '097.txt': 0, '098.txt': 3, '099.txt': 0, '100.txt': 0, '101.txt': 6, '102.txt': 2, '103.txt': 2, '104.txt': 2, '105.txt': 6, '106.txt': 2, '107.txt': 0, '108.txt': 0, '109.txt': 0, '110.txt': 1, '111.txt': 1, '112.txt': 0, '113.txt': 1, '114.txt': 0, '115.txt': 0, '116.txt': 0, '117.txt': 2, '118.txt': 2, '119.txt': 2, '120.txt': 1, '121.txt': 0, '122.txt': 3, '123.txt': 3, '124.txt': 0, '125.txt': 1, '126.txt': 27, '127.txt': 7, '128.txt': 0, '129.txt': 1, '130.txt': 0, '131.txt': 0, '132.txt': 11, '133.txt': 11, '134.txt': 2, '135.txt': 0, '136.txt': 0, '137.txt': 0, '138.txt': 2, '139.txt': 0, '140.txt': 0, '141.txt': 0, '142.txt': 3, '143.txt': 0, '144.txt': 1, '145.txt': 0, '146.txt': 1, '147.txt': 1, '148.txt': 0, '149.txt': 0, '150.txt': 0, '151.txt': 0, '152.txt': 1, '153.txt': 1, '154.txt': 0, '155.txt': 0, '156.txt': 8, '157.txt': 0, '158.txt': 0, '159.txt': 0, '160.txt': 2, '161.txt': 0, '162.txt': 3, '163.txt': 0, '164.txt': 0, '165.txt': 3, '166.txt': 5, '167.txt': 2, '168.txt': 2, '169.txt': 3, '170.txt': 2, '171.txt': 0, '172.txt': 1, '173.txt': 1, '174.txt': 2, '175.txt': 0, '176.txt': 0, '177.txt': 0, '178.txt': 2, '179.txt': 6, '180.txt': 2, '181.txt': 1, '182.txt': 2, '183.txt': 1, '184.txt': 1, '185.txt': 2, '186.txt': 0, '187.txt': 0, '188.txt': 0, '189.txt': 1, '190.txt': 1, '191.txt': 1, '192.txt': 3, '193.txt': 3, '194.txt': 1, '195.txt': 1, '196.txt': 2, '197.txt': 2, '198.txt': 2, '199.txt': 4, '200.txt': 1, '201.txt': 4, '202.txt': 4, '203.txt': 2, '204.txt': 4, '205.txt': 4, '206.txt': 4, '207.txt': 2, '208.txt': 3, '209.txt': 1, '210.txt': 11, '211.txt': 11, '212.txt': 11, '213.txt': 0, '214.txt': 0, '215.txt': 1, '216.txt': 0, '217.txt': 2, '218.txt': 0, '219.txt': 1, '220.txt': 1, '221.txt': 0, '222.txt': 3, '223.txt': 3, '224.txt': 2, '225.txt': 2, '226.txt': 1, '227.txt': 1, '228.txt': 1, '229.txt': 0, '230.txt': 2, '231.txt': 1, '232.txt': 3, '233.txt': 3, '234.txt': 3, '235.txt': 3, '236.txt': 5, '237.txt': 0, '238.txt': 0, '239.txt': 0, '240.txt': 1, '241.txt': 1, '242.txt': 5, '243.txt': 0, '244.txt': 0, '245.txt': 0, '246.txt': 0, '247.txt': 4, '248.txt': 4, '249.txt': 3, '250.txt': 3, '251.txt': 4, '252.txt': 1, '253.txt': 0, '254.txt': 0, '255.txt': 1, '256.txt': 0, '257.txt': 0, '258.txt': 0, '259.txt': 11, '260.txt': 0, '261.txt': 0, '262.txt': 1, '263.txt': 0, '264.txt': 0, '265.txt': 0, '266.txt': 0, '267.txt': 0, '268.txt': 0, '269.txt': 0, '270.txt': 1, '271.txt': 0, '272.txt': 0, '273.txt': 0, '274.txt': 0, '275.txt': 0, '276.txt': 0, '277.txt': 0, '278.txt': 0, '279.txt': 0, '280.txt': 0, '281.txt': 4, '282.txt': 0, '283.txt': 0, '284.txt': 0, '285.txt': 0, '286.txt': 0, '287.txt': 0, '288.txt': 0, '289.txt': 4, '290.txt': 4, '291.txt': 4, '292.txt': 0, '293.txt': 0, '294.txt': 2, '295.txt': 2, '296.txt': 2, '297.txt': 2, '298.txt': 7, '299.txt': 7, '300.txt': 0, '301.txt': 1, '302.txt': 1, '303.txt': 0, '304.txt': 0, '305.txt': 0, '306.txt': 0, '307.txt': 0, '308.txt': 0, '309.txt': 0, '310.txt': 0, '311.txt': 1, '312.txt': 1, '313.txt': 1, '314.txt': 0, '315.txt': 0, '316.txt': 1, '317.txt': 0, '318.txt': 3, '319.txt': 3, '320.txt': 0, '321.txt': 1, '322.txt': 0, '323.txt': 0, '324.txt': 0, '325.txt': 0, '326.txt': 0, '327.txt': 0, '328.txt': 4, '329.txt': 4, '330.txt': 0, '331.txt': 0, '332.txt': 3, '333.txt': 3, '334.txt': 1, '335.txt': 1, '336.txt': 0, '337.txt': 0, '338.txt': 0, '339.txt': 0, '340.txt': 0, '341.txt': 5, '342.txt': 0, '343.txt': 0, '344.txt': 0, '345.txt': 0, '346.txt': 0, '347.txt': 1, '348.txt': 1, '349.txt': 1, '350.txt': 1, '351.txt': 0, '352.txt': 2, '353.txt': 1, '354.txt': 0, '355.txt': 0, '356.txt': 0, '357.txt': 0, '358.txt': 0, '359.txt': 5, '360.txt': 0, '361.txt': 3, '362.txt': 0, '363.txt': 0, '364.txt': 0, '365.txt': 0, '366.txt': 0, '367.txt': 0, '368.txt': 0, '369.txt': 3, '370.txt': 3, '371.txt': 0, '372.txt': 0, '373.txt': 0, '374.txt': 0, '375.txt': 0, '376.txt': 3, '377.txt': 0, '378.txt': 1, '379.txt': 1, '380.txt': 0, '381.txt': 0, '382.txt': 0, '383.txt': 0, '384.txt': 0, '385.txt': 0, '386.txt': 1, '387.txt': 1, '388.txt': 1, '389.txt': 1, '390.txt': 0, '391.txt': 0, '392.txt': 1, '393.txt': 1, '394.txt': 0, '395.txt': 1, '396.txt': 1, '397.txt': 2, '398.txt': 2, '399.txt': 1, '400.txt': 1, '401.txt': 1, '402.txt': 1, '403.txt': 0, '404.txt': 0, '405.txt': 2, '406.txt': 2, '407.txt': 0, '408.txt': 0, '409.txt': 0, '410.txt': 0, '411.txt': 0, '412.txt': 0, '413.txt': 1, '414.txt': 0, '415.txt': 0, '416.txt': 1, '417.txt': 1, '418.txt': 0, '419.txt': 1, '420.txt': 1, '421.txt': 1, '422.txt': 1, '423.txt': 1, '424.txt': 0, '425.txt': 0, '426.txt': 0, '427.txt': 0, '428.txt': 0, '429.txt': 7, '430.txt': 7, '431.txt': 7, '432.txt': 0, '433.txt': 0, '434.txt': 0, '435.txt': 1, '436.txt': 0, '437.txt': 0, '438.txt': 0, '439.txt': 1, '440.txt': 0, '441.txt': 0, '442.txt': 0, '443.txt': 0, '444.txt': 0, '445.txt': 0, '446.txt': 0, '447.txt': 0, '448.txt': 0, '449.txt': 0, '450.txt': 0, '451.txt': 0, '452.txt': 0, '453.txt': 0, '454.txt': 0, '455.txt': 0, '456.txt': 0, '457.txt': 1, '458.txt': 1, '459.txt': 0, '460.txt': 2, '461.txt': 0, '462.txt': 0, '463.txt': 0, '464.txt': 2, '465.txt': 0, '466.txt': 1, '467.txt': 0, '468.txt': 0, '469.txt': 0, '470.txt': 1, '471.txt': 0, '472.txt': 0, '473.txt': 0, '474.txt': 0, '475.txt': 0, '476.txt': 1, '477.txt': 1, '478.txt': 0, '479.txt': 0, '480.txt': 0, '481.txt': 0, '482.txt': 0, '483.txt': 25, '484.txt': 1, '485.txt': 0, '486.txt': 1, '487.txt': 0, '488.txt': 0, '489.txt': 0, '490.txt': 0, '491.txt': 0, '492.txt': 0, '493.txt': 1, '494.txt': 1, '495.txt': 1, '496.txt': 0, '497.txt': 0, '498.txt': 0, '499.txt': 0, '500.txt': 0, '501.txt': 0, '502.txt': 0, '503.txt': 0, '504.txt': 0, '505.txt': 1, '506.txt': 1, '507.txt': 0, '508.txt': 0, '509.txt': 0, '510.txt': 0, '511.txt': 0, '512.txt': 0, '513.txt': 0, '514.txt': 2, '515.txt': 0, '516.txt': 0, '517.txt': 2, '518.txt': 1, '519.txt': 0, '520.txt': 1, '521.txt': 2, '522.txt': 2, '523.txt': 4, '524.txt': 0, '525.txt': 0, '526.txt': 0, '527.txt': 1, '528.txt': 1, '529.txt': 0, '530.txt': 0, '531.txt': 0, '532.txt': 0, '533.txt': 0, '534.txt': 2, '535.txt': 2, '536.txt': 0, '537.txt': 0, '538.txt': 1, '539.txt': 1, '540.txt': 1, '541.txt': 1, '542.txt': 0, '543.txt': 1, '544.txt': 3, '545.txt': 3, '546.txt': 0, '547.txt': 0, '548.txt': 0, '549.txt': 0, '550.txt': 5, '551.txt': 5, '552.txt': 0, '553.txt': 0, '554.txt': 0, '555.txt': 0, '556.txt': 0, '557.txt': 1, '558.txt': 0, '559.txt': 0, '560.txt': 1, '561.txt': 0, '562.txt': 1, '563.txt': 1, '564.txt': 0, '565.txt': 1, '566.txt': 1, '567.txt': 0, '568.txt': 0, '569.txt': 0, '570.txt': 0, '571.txt': 0, '572.txt': 0, '573.txt': 2, '574.txt': 1, '575.txt': 0, '576.txt': 0, '577.txt': 0, '578.txt': 1, '579.txt': 1, '580.txt': 0, '581.txt': 0, '582.txt': 1, '583.txt': 1, '584.txt': 0, '585.txt': 0, '586.txt': 0, '587.txt': 2, '588.txt': 2, '589.txt': 2, '590.txt': 2, '591.txt': 0, '592.txt': 0, '593.txt': 3, '594.txt': 3, '595.txt': 3, '596.txt': 3, '597.txt': 4, '598.txt': 4, '599.txt': 4, '600.txt': 0, '601.txt': 0, '602.txt': 0, '603.txt': 0, '604.txt': 0, '605.txt': 0, '606.txt': 0, '607.txt': 0, '608.txt': 0, '609.txt': 2, '610.txt': 2, '611.txt': 0, '612.txt': 0, '613.txt': 0, '614.txt': 0, '615.txt': 0, '616.txt': 1, '617.txt': 1, '618.txt': 0, '619.txt': 0, '620.txt': 0, '621.txt': 0, '622.txt': 0, '623.txt': 2, '624.txt': 2, '625.txt': 2, '626.txt': 0, '627.txt': 0, '628.txt': 0, '629.txt': 0, '630.txt': 0, '631.txt': 0, '632.txt': 0, '633.txt': 0, '634.txt': 0, '635.txt': 0, '636.txt': 0, '637.txt': 0, '638.txt': 2, '639.txt': 5, '640.txt': 0, '641.txt': 0, '642.txt': 0}\n"
     ]
    }
   ],
   "source": [
    "from nltk.corpus import PlaintextCorpusReader         #PlaintextCorpusReader, makes corpus management easier\n",
    "path = \"/home/otzy/local_directory/Final Project/corpora/temessuke ilgili kaynaklar/\"  #determines path\n",
    "temessCorpus = PlaintextCorpusReader(path, '.*txt')          #defines corpus\n",
    "\n",
    "documents = {} # keep track of values for each document\n",
    "for fileid in temessCorpus.fileids():\n",
    "    text = temessCorpus.raw(fileid).lower() # read each text and convert to lower case\n",
    "    tokens = nltk.word_tokenize(text) # tokenize\n",
    "    score = 0 # keep track of the score fo this document\n",
    "    for polarity, words_dict in kind_money.items(): # look at our sentiments dictionary\n",
    "        for word, value in words_dict.items(): # go through each word in the list\n",
    "            score += tokens.count(word) * value # occurences multiplied by value (often zero) added to score value\n",
    "    documents[fileid] = score # assign the score\n",
    "print(documents)"
   ]
  },
  {
   "cell_type": "markdown",
   "metadata": {},
   "source": [
    "We know that these documents are classified by ascending order because they were produced by reading the chronologically organized catalogues. So we could produce a graphic containing this data, but it would not be indicative of much without any other data with which it can be cross-referenced. In other words, because there is no negative value to the document, our statistics now only show whether a document used money or only goods to refer indicate what kind of value was discussed in the entry containing a conversation about the temessuk contract.\n",
    "\n",
    "To produce this other set of data to cross-reference this one with, I attempt to produce a gender analysis. The two sets of data will then be compared with one another in the hope of uncovering some meaning around the use of contracts in 16th-17th century Istanbul."
   ]
  },
  {
   "cell_type": "markdown",
   "metadata": {},
   "source": [
    "### Did Economic Affairs Concern Only Men? Quantitative Answers with a Gender analysis\n",
    "Let's explore how this interacted with gender now. \n",
    "\n",
    "Works on Ottoman monetary history hardly ever discuss women. With the exception of Sureya Faroqhi (Faroqhi, 1995) I am aware of no authors who discuss the interactions of money and women in the Empire. I thus ponder the simple question of the presence of women in the discussions of economic contracts. \n",
    "\n",
    "To provide some bits of the answer to this interrogation, I build a much more exhaustive dictionary that indicates the presence of women in the legal entries about contracts. In order to see how I build this dictionary, please refer to my Secondary notebook 1.\n",
    "\n",
    "Once more, I decided not to attribute a negative sub-dictionary because it would have fostered more confusion about whether or not women were present in the entries. My goal is not to compare their presence to man's, but rather to assess the presence of women in discussions of contract."
   ]
  },
  {
   "cell_type": "code",
   "execution_count": 16,
   "metadata": {},
   "outputs": [],
   "source": [
    "dict_womenid = {                          #make a dictionary   \n",
    "    \"women\": {                            #copy pasted all the data from the Secondary notebook 1\n",
    "        'Hatun': 1, 'hatun': 1, 'Hâtun': 1, 'hâtun': 1, 'Fâtıma': 1, 'Emine': 1, 'Belkıs': 1,\n",
    "         'Hâkimin': 1, 'Zeyni': 1, 'Gülnar': 1, 'Zamâne': 1,\n",
    "         'Rahime': 1, 'Beyşâh': 1, 'Hasnâ': 1, 'Nisâ': 1,\n",
    "         'Zehrâ': 1, 'Râbia': 1, 'Cennet': 1, 'Meryem': 1,\n",
    "         'Dâye': 1, 'Fedâi': 1, 'Mümine': 1, 'Huri': 1,\n",
    "         'Cevza': 1, 'Zeyneb': 1, 'Safiye': 1, 'Kamer': 1,\n",
    "         'Nefîse': 1, 'Muhsine': 1, 'Balkıza': 1, 'Mehmed': 1,\n",
    "         'Saliha': 1, 'Mihriban': 1, 'Havvâ': 1, 'Aynî': 1,\n",
    "         'Eyne': 1, 'Kerime': 1, 'Pedermâh': 1, 'Nene': 1,\n",
    "         'Hatice': 1, 'Tûtî': 1, 'Selime': 1, 'Havva': 1,\n",
    "         'Semenzâr': 1, 'Herdem': 1, 'Mama': 1, 'Sâime': 1,\n",
    "         'Saraylı': 1, 'Kâmile': 1, 'Fahri': 1, 'Nakışcı': 1,\n",
    "         'Mâhıruhsar': 1, 'Ayşe': 1, 'Selâmet': 1, 'Hamide': 1,\n",
    "         'Latif': 1, 'Usta': 1, 'Raziye': 1, 'Canfedâ': 1, 'Rukiye': 1,\n",
    "         'Hâcce': 1, 'Afrasyab': 1, 'Emetullah': 1, 'Hayrünnisa': 1,\n",
    "         'Yümnî': 1, 'Hümâ': 1, 'Sâkine': 1, 'Aişe': 1, 'Zeliha': 1,\n",
    "         'Mahbûbe': 1, 'Sâbiha': 1, 'Sitti': 1, 'Kalender': 1,\n",
    "         'Zahide': 1, 'Nefise': 1, 'Neslihan': 1, 'Asiye': 1,\n",
    "         'Gülâbiye': 1, 'Gülâbî': 1, 'Hûbân': 1, 'Zeynî': 1, 'Fatma': 1,\n",
    "         'Fahrî': 1, 'Râziye': 1, 'Karakaş': 1,\n",
    "         'Mihrî': 1, 'Münteha': 1, 'Münevver': 1, 'Cihân': 1, 'Ferahşad': 1,\n",
    "         'Abdullah': 1, 'Dilâver': 1, 'Eşi': 1, 'Sâliha': 1, 'Müdâm': 1,\n",
    "         'Câriye': 1, 'Mülâyim': 1, 'Fağfur': 1, 'Mihri': 1, 'Gülahmer': 1,\n",
    "         'Cemile': 1, 'Hacer': 1, 'Zühre': 1, 'Mehpâre': 1, 'Nâzenin': 1,\n",
    "         'Zâhide': 1, 'Mehlika': 1, 'Bedriye': 1, 'Pervane': 1, 'Aliye': 1,\n",
    "         'Hâce': 1, 'Hacı': 1, 'Gülşâh': 1, 'Fedâyî': 1, 'Mâhi': 1, 'Sabiha': 1,\n",
    "         'Habibe': 1, 'Râzıye': 1, 'Servi': 1, 'Dilaver': 1, 'Halime': 1,\n",
    "         'Cenâne': 1, 'Bağcinâne': 1, 'Nâfile': 1, 'Müstakim': 1, 'Han': 1, 'Hân': 1,\n",
    "         'Vildan': 1, 'Bâşe': 1, 'Turfanda': 1, 'Nâime': 1, 'Utul': 1,\n",
    "         'Yasemin': 1, 'Hafsa': 1, 'Dilber': 1, 'Lâleruh': 1, 'Rabia': 1,\n",
    "         'Hanım': 1, 'Kahraman': 1, 'Kırımlı': 1, 'Firuz': 1, 'Fîruz': 1, 'Eşmiye': 1,\n",
    "         'Peri': 1, 'Sakine': 1, 'Sâyime': 1, 'Müslime': 1, 'Pakize': 1, 'Müstakīme': 1,\n",
    "         'Gonca': 1, 'Muazzer': 1, 'Muazzez': 1, 'Merhûme': 1, 'Züleyha': 1, 'Afîfe': 1,\n",
    "         'Selim': 1, 'Saime': 1, 'Mücellâ': 1, 'Kıye': 1, 'Fütûha': 1, 'Hace': 1,\n",
    "         'Sahra': 1, 'Sâbire': 1, 'Hamile': 1, 'Kethüdâ': 1, 'Bedrimâh': 1, 'Hâmide': 1,\n",
    "         'Muammere': 1, 'Gülizar': 1, 'Rıdvan': 1, 'Servinaz': 1, 'Nesli': 1, 'Sultâne': 1,\n",
    "         'Mihrihan': 1, 'Bula': 1, 'Hânî': 1, 'Habib': 1, 'Mülayime': 1, 'Fati': 1,\n",
    "         'Hemrâz': 1, 'Hayrünnisâ': 1, 'Nesimeşah': 1, 'Hatîce': 1, 'Cariye': 1, 'Yümn': 1,\n",
    "         'Afife': 1, 'Vasafhan': 1, 'Hayri': 1, 'Hamîde': 1, 'Naime': 1, 'Bigümân': 1,\n",
    "         'Hoşelhan': 1, 'Hoşelhân': 1, 'Perizâd': 1, 'Kâmuran': 1, 'Katko': 1, 'Mâhruhsar': 1,\n",
    "         'Beyhan': 1, 'Gülbûy': 1, 'Bedirhan': 1, 'Lâlezâr': 1, 'Perizat': 1, 'Kâtibe': 1, \n",
    "         'Gülşah': 1, 'Ruveyde': 1, 'Peymâne': 1, 'Sabûhi': 1, 'Sabûhî': 1, 'Hala': 1,\n",
    "         'Lâlegûn': 1, 'Nazver': 1, 'Nazike': 1, 'Mâhımünir': 1, 'Siyavuş': 1, 'Hâni': 1,\n",
    "         'Nefsâ': 1, 'Marola': 1, 'Kirana': 1, 'Latife': 1, 'Mevlâhü': 1, 'Marziye': 1,\n",
    "         'Fersa': 1, 'Gülkıyâfet': 1, 'Mâhî': 1, 'Müferrah': 1, 'Menzile': 1,\n",
    "         'Vasî': 1, 'Hayrunnisâ': 1, 'Cani': 1, 'Hundi': 1, 'Hani': 1, 'Hanî': 1,\n",
    "         'Gülbahar': 1, 'Hesna': 1, 'Hesnâ': 1, 'Cinân': 1, 'Vasfıhan': 1, 'Rûşen': 1,\n",
    "         'Canfeda': 1, 'Cinâne': 1, 'Esmâ': 1, 'Döne': 1, 'Bülbül': 1, 'Mihmân': 1,\n",
    "         'Cenan': 1, 'Huban': 1, 'Payidar': 1, 'Zeynep': 1, 'Suhbî': 1, 'Gülruh': 1,\n",
    "         'Merdüm': 1, 'Nergis': 1, 'Hurşid': 1, 'Temenna': 1, 'Hâkime': 1, 'Nârin': 1, 'Tireli': 1\n",
    "        }\n",
    "}"
   ]
  },
  {
   "cell_type": "markdown",
   "metadata": {},
   "source": [
    "Let's attribute a gender value to our temessuk documents now!"
   ]
  },
  {
   "cell_type": "code",
   "execution_count": 17,
   "metadata": {},
   "outputs": [],
   "source": [
    "gender_value = {} # keep track of values for each document \n",
    "for fileid in temessCorpus.fileids():     #loops through all documents of corpus\n",
    "    text = temessCorpus.raw(fileid) # read each text\n",
    "    tokens = nltk.word_tokenize(text) # tokenize individual words\n",
    "    score = 0 # keep track of the score fo this document\n",
    "    for i, thing in dict_womenid.items(): # look at our sentiments dictionary\n",
    "        for word, value in thing.items(): # go through each word in the list\n",
    "            score += tokens.count(word) * value #score + tokens multiplied by value of key in dictioanary\n",
    "    gender_value[fileid] = score # assign the score"
   ]
  },
  {
   "cell_type": "code",
   "execution_count": 18,
   "metadata": {},
   "outputs": [
    {
     "name": "stdout",
     "output_type": "stream",
     "text": [
      "Numer of documents containing mentions of women:\n"
     ]
    },
    {
     "data": {
      "text/plain": [
       "534"
      ]
     },
     "execution_count": 18,
     "metadata": {},
     "output_type": "execute_result"
    }
   ],
   "source": [
    "#python sum() function & not seen in class\n",
    "#thanks to : https://docs.python.org/3/library/functions.html\n",
    "#adds 1 everytime value in gender_value is equivalent to 1 or more\n",
    "print(\"Numer of documents containing mentions of women:\")\n",
    "sum(1 for value in gender_value.values() if value >= 1)"
   ]
  },
  {
   "cell_type": "markdown",
   "metadata": {},
   "source": [
    "That's an impressive number of occurrences of tokens related to women when discussing contracts! Perhaps women had more of a place in the economy than we thought. Let's try to in which cases women do not appear in the discussion. This leads us to the final part of this paper.\n",
    "\n",
    "# Making Sense of the Data: Cross-Referencing Data and Meaning\n",
    "\n",
    "We have seen that 534 out of 643 documents have mentions of women. What about the remaining 109 documents? Let's attempt to find which discussions implying temessuk excluded women! Did goods-based or money-based contracts have correspond more with the absence of women in the discussions of contracts?\n",
    "\n",
    "It is essential for researchers to always cross-reference data in order to provide better meaning. In order to do so, I propose to create a new dictionary of the documents in which women were not mentioned, and then attribute a value of +1 or -1 based on the first 'sentiment' analysis that we did. In other words, +1 will represent the use of money in these documents, -1 the use of goods in contracts."
   ]
  },
  {
   "cell_type": "code",
   "execution_count": 19,
   "metadata": {},
   "outputs": [
    {
     "name": "stdout",
     "output_type": "stream",
     "text": [
      "109\n",
      "---\n",
      "643\n",
      "{'000.txt': -1, '024.txt': -1, '025.txt': -1, '090.txt': -1, '092.txt': -1, '106.txt': 1, '114.txt': -1, '115.txt': -1, '117.txt': 1, '118.txt': 1, '119.txt': 1, '121.txt': -1, '124.txt': -1, '131.txt': -1, '132.txt': 1, '133.txt': 1, '134.txt': 1, '136.txt': -1, '137.txt': -1, '139.txt': -1, '143.txt': -1, '145.txt': -1, '146.txt': 1, '147.txt': 1, '152.txt': 1, '169.txt': 1, '178.txt': 1, '188.txt': -1, '189.txt': 1, '200.txt': 1, '204.txt': 1, '205.txt': 1, '206.txt': 1, '207.txt': 1, '208.txt': 1, '217.txt': 1, '226.txt': 1, '227.txt': 1, '228.txt': 1, '236.txt': 1, '237.txt': -1, '253.txt': -1, '254.txt': -1, '256.txt': -1, '307.txt': -1, '308.txt': -1, '309.txt': -1, '310.txt': -1, '319.txt': 1, '328.txt': 1, '329.txt': 1, '330.txt': -1, '331.txt': -1, '332.txt': 1, '333.txt': 1, '334.txt': 1, '335.txt': 1, '336.txt': -1, '337.txt': -1, '338.txt': -1, '339.txt': -1, '340.txt': -1, '353.txt': 1, '354.txt': -1, '360.txt': -1, '386.txt': 1, '387.txt': 1, '388.txt': 1, '401.txt': 1, '435.txt': 1, '436.txt': -1, '437.txt': -1, '502.txt': -1, '503.txt': -1, '504.txt': -1, '505.txt': 1, '506.txt': 1, '515.txt': -1, '516.txt': -1, '550.txt': 1, '551.txt': 1, '554.txt': -1, '555.txt': -1, '556.txt': -1, '557.txt': 1, '558.txt': -1, '559.txt': -1, '567.txt': -1, '568.txt': -1, '569.txt': -1, '570.txt': -1, '571.txt': -1, '572.txt': -1, '573.txt': 1, '574.txt': 1, '575.txt': -1, '576.txt': -1, '577.txt': -1, '581.txt': -1, '584.txt': -1, '585.txt': -1, '586.txt': -1, '605.txt': -1, '631.txt': -1, '635.txt': -1, '636.txt': -1, '637.txt': -1, '640.txt': -1, '641.txt': -1}\n"
     ]
    },
    {
     "data": {
      "text/plain": [
       "109"
      ]
     },
     "execution_count": 19,
     "metadata": {},
     "output_type": "execute_result"
    }
   ],
   "source": [
    "dict_notwomen = {}       #creates dictionary\n",
    "                                            \n",
    "for key, value in gender_value.items():   # for position 1 and position 2 in dict.items(the key and its value)\n",
    "    if value == 0:                     #if value is superior or equivalent to 1 (so if it discusses money)\n",
    "        dict_notwomen[key] = 0\n",
    "        \n",
    "print(len(dict_notwomen))          #prints length of dict\n",
    "print(\"---\")                       #prints ---\n",
    "print(len(documents))              #prints number of total documents\n",
    "\n",
    "for key, value in documents.items():        \n",
    "    if key in dict_notwomen and value >= 1:    #1 = if discusses money\n",
    "        dict_notwomen[key] += 1\n",
    "    if key in dict_notwomen and value == 0:\n",
    "        dict_notwomen[key] += -1               #-1 = if does not discuss money\n",
    "print(dict_notwomen)\n",
    "\n",
    "sum(1 for value in dict_notwomen.values())"
   ]
  },
  {
   "cell_type": "markdown",
   "metadata": {},
   "source": [
    "We now have one set of data to work with, but I think it would be appropriate to split the data in two values in order to simply know which kinds of value implied that women were not discussed in conversations about contracts."
   ]
  },
  {
   "cell_type": "code",
   "execution_count": 20,
   "metadata": {},
   "outputs": [
    {
     "name": "stdout",
     "output_type": "stream",
     "text": [
      "Estimated content of contracts when women are not part of the discussion.\n",
      "44\n",
      "65\n"
     ]
    }
   ],
   "source": [
    "score_money = 0                                     #defines value to variable score_money\n",
    "score_notmoney = 0                                  #defines value to variable score_notmoney\n",
    "for key, value in dict_notwomen.items():            #loop key & value through dict_notwomen\n",
    "    if value == 1:                                  #If value is equivalent to one, add 1 to score_money\n",
    "        score_money += +1                           \n",
    "    else:                                           #else\n",
    "        score_notmoney += +1                        #add +1 to score_notmoney\n",
    "print(\"Estimated content of contracts when women are not part of the discussion.\")\n",
    "print(score_money)\n",
    "print(score_notmoney)"
   ]
  },
  {
   "cell_type": "markdown",
   "metadata": {},
   "source": [
    "A pie chart will make this data more intelligible."
   ]
  },
  {
   "cell_type": "code",
   "execution_count": 21,
   "metadata": {},
   "outputs": [
    {
     "data": {
      "image/png": "[encoded data removed]",
      "text/plain": [
       "<Figure size 432x288 with 1 Axes>"
      ]
     },
     "metadata": {},
     "output_type": "display_data"
    }
   ],
   "source": [
    "pielabels = 'Uses of money', 'Uses of goods'\n",
    "pieshare = [44, 65]\n",
    "\n",
    "B, axesObject = plt.subplots() #subplots() needs to variable, but I do not understand why exactly\n",
    "                                  # I think it's because subplots() is made with both keys and labels\n",
    "\n",
    "axesObject.pie(pieshare,        #.pie(values, labels=?, autopct=?, startangle=?)\n",
    "        labels=pielabels,\n",
    "        autopct='%1.2f',        #how many digits\n",
    "        startangle=90)\n",
    "axesObject.axis('equal')        #I'm not sure I understand this part\n",
    "plt.show()                   #This shows the results of the graph"
   ]
  },
  {
   "cell_type": "markdown",
   "metadata": {},
   "source": [
    "This is an interesting graph, but we loose the possibility to evaluate change overtime! However, visualize well how the use of goods has 20% more chance not to involve women. But let's visualize the data with another graph.\n",
    "\n",
    "Let's make a scatter graph in order to put forth the chronological order of our documents."
   ]
  },
  {
   "cell_type": "code",
   "execution_count": 22,
   "metadata": {},
   "outputs": [
    {
     "data": {
      "text/plain": [
       "Text(0, 0.5, 'Money or Goods?')"
      ]
     },
     "execution_count": 22,
     "metadata": {},
     "output_type": "execute_result"
    },
    {
     "data": {
      "image/png": "[encoded data removed]",
      "text/plain": [
       "<Figure size 432x288 with 1 Axes>"
      ]
     },
     "metadata": {
      "needs_background": "light"
     },
     "output_type": "display_data"
    }
   ],
   "source": [
    "graphicable = list(sorted(nltk.FreqDist(dict_notwomen).items())) # sorted by ascending order(not frequency)\n",
    "year = [f[0] for f in graphicable]                   #x is years\n",
    "LengthValues = [f[1] for f in graphicable]           #y is value\n",
    "plt.scatter(year, LengthValues, marker='o')          #scatter graph\n",
    "plt.xlabel('Documents classified by year 1520-1720') #documents classified by year\n",
    "plt.ylabel('Money or Goods?')                        #money or goods?"
   ]
  },
  {
   "cell_type": "markdown",
   "metadata": {},
   "source": [
    "As mentioned earlier, this graph shows data chronologically because the documents were created according to a chronology.\n",
    "\n",
    "Since we know the value 1 represents contracts using money, and value -1 contracts using goods, we can now observe an interesting change overtime.\n",
    "\n",
    "# Concluding Remarks and Final Analysis.\n",
    "\n",
    "It seems like, although marginal(about 1/6 discussions of contracts that do not discuss women), the exclusion of women occurred in the temessuk contracts faced a proportional reversal as time went by. In the earlier periods, contracts using goods and money seem to exclude women more or less in equivalent proportions. Overtime, however, contracts discussing goods seem to be the sole part of this binary that can be used to explain the absence of women from the temessuk contracts.\n",
    "\n",
    "Let's remember, women were part of the entries 534 out of 643 Sicil Catalogue entries with the word temessuk. This does not mean, however, that they were active actors in these contracts, but rather that they were at least some part of the concerns of the temessuk contracts. If these results are interesting, many questions remain. What about the agency of women in these contracts? What were the goods traded in these contracts if they didn't discuss money? What were the overlaps of money and valuable goods in these temessuks? Did any of these particular overlaps implied more women than others? If so why?\n",
    "\n",
    "To know more precisely the role of women in these contracts, especially, about the activity of women in the use of these contracts, one would need to do a deeper reading of the entries included in the gender_values uncovered above. It would be possible. But without a deep reading, it would also be possible to use automated text analysis in order to know whether it was a woman or a man who went to the Islamic Court to discuss temessuks.\n",
    "\n",
    "If we go back to our first graph, one also wonders what these peaks in use of temessuk represent. What caused these peaks in the appearance of temessuks in the Islamic court entries? Were there more litigation, or simple more temessuk was issued overtime? Were temessuk becoming less reliable?\n",
    "\n",
    "Reading these sources along some secondary literature on the early modern Ottoman Empire could provide bits of answers to these questions.\n",
    "\n",
    "In sum, if this research opened up more questions than answers, it has made certain that the use of quantitative text analysis is of great help to complement qualitative research by providing a wide range of questions. More over, it has shown that a simple recipe to produce quantifiable data can be of great hand to bust certain historical myths of Ottoman historiography such as the absence of women in economic life, and more particularly in the discussion of contracts in Ottoman lands. I can only hope this program is going to be used by other new programmers, or simply by ottoman historians using the same primary sources as I did."
   ]
  },
  {
   "cell_type": "markdown",
   "metadata": {},
   "source": [
    "# Bibliography:\n",
    "    \n",
    "Aykan, Yavuz. 2 Le cadi et la certification des droits dans la ville d’Amid. BRILL, 2016. https://doi.org/10.1163/9789004305793_005.\n",
    "\n",
    "Faroqhi, Suraiya. Making a Living in the Ottoman Lands 1480 to 1820. Analecta Isisiana ; XVIII. Istanbul: The Isis Press, 1995.\n",
    "\n",
    "Mandell, Laura. “Promotion and Tenure for Digital Scholarship.” Journal of Digital Humanities, December 19, 2012. http://journalofdigitalhumanities.org/1-4/promotion-and-tenure-for-digital-scholarship-by-laura-mandell/.\n",
    "\n",
    "Marche, Stephen. “Literature Is Not Data: Against Digital Humanities.” Los Angeles Review of Books. Accessed April 19, 2019. https://lareviewofbooks.org/article/literature-is-not-data-against-digital-humanities/.\n",
    "\n",
    "Pamuk, Sevket. A Monetary History of the Ottoman Empire. 1 online resource (331 pages). vols. Cambridge Studies in Islamic Civilization. Cambridge: Cambridge University Press, 2003. http://public.eblib.com/choice/publicfullrecord.aspx?p=144728.\n",
    "\n",
    "Piper, Andrew. “There Will Be Numbers.” Preprint. SocArXiv, August 18, 2018. https://doi.org/10.31235/osf.io/kf6hz.\n",
    "\n",
    "Sinclair, Stéfan, and Geoffrey Rockwell. “Teaching Computer-Assisted Text Analysis: Approaches to Learning New Methodologies.” Digital Humanities Pedagogy: Practices, Principles, and Politics, 2012, 241–63."
   ]
  },
  {
   "cell_type": "code",
   "execution_count": null,
   "metadata": {},
   "outputs": [],
   "source": []
  }
 ],
 "metadata": {
  "kernelspec": {
   "display_name": "Python 3",
   "language": "python",
   "name": "python3"
  },
  "language_info": {
   "codemirror_mode": {
    "name": "ipython",
    "version": 3
   },
   "file_extension": ".py",
   "mimetype": "text/x-python",
   "name": "python",
   "nbconvert_exporter": "python",
   "pygments_lexer": "ipython3",
   "version": "3.7.1"
  }
 },
 "nbformat": 4,
 "nbformat_minor": 2
}
