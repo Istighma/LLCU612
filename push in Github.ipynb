{
 "cells": [
  {
   "cell_type": "code",
   "execution_count": 1,
   "metadata": {},
   "outputs": [],
   "source": [
    "import os\n",
    "os.chdir(\"/home/otzy/Notebookana/counting/\")"
   ]
  },
  {
   "cell_type": "code",
   "execution_count": 2,
   "metadata": {},
   "outputs": [
    {
     "data": {
      "text/plain": [
       "['1811 Sense and Sensibility.txt',\n",
       " 'result.txt',\n",
       " '1805 Lady Susan.txt',\n",
       " '1813 Pride and Prejudice.txt',\n",
       " '1790 Love And Freindship.txt',\n",
       " '1814 Mansfield Park.txt',\n",
       " '1815 Emma.txt',\n",
       " '1818 Northanger Abbey.txt',\n",
       " '1818 Persuasion.txt']"
      ]
     },
     "execution_count": 2,
     "metadata": {},
     "output_type": "execute_result"
    }
   ],
   "source": [
    "import glob\n",
    "listfiles = glob.glob(\"*txt\")\n",
    "listfiles"
   ]
  },
  {
   "cell_type": "code",
   "execution_count": 3,
   "metadata": {},
   "outputs": [
    {
     "name": "stdout",
     "output_type": "stream",
     "text": [
      "0\n"
     ]
    }
   ],
   "source": [
    "#knowing that result.txt is the result the compilation of Austen's works in a single file\n",
    "compiled = 'result.txt'\n",
    "\n",
    "with open(compiled, 'r') as text:\n",
    "    test = 0\n",
    "    for line in text:\n",
    "        f = open(compiled, \"r\")\n",
    "        textLine = f.read()\n",
    "        f.close\n",
    "        word_list = line.lower().split()\n",
    "        for line in word_list:\n",
    "            line.count('the')\n",
    "            counting = line.count('the')\n",
    "            test += counting\n",
    "print(test)"
   ]
  },
  {
   "cell_type": "code",
   "execution_count": 6,
   "metadata": {},
   "outputs": [
    {
     "ename": "NameError",
     "evalue": "name 'counting' is not defined",
     "output_type": "error",
     "traceback": [
      "\u001b[0;31m---------------------------------------------------------------------------\u001b[0m",
      "\u001b[0;31mNameError\u001b[0m                                 Traceback (most recent call last)",
      "\u001b[0;32m<ipython-input-6-4df4ff49dabd>\u001b[0m in \u001b[0;36m<module>\u001b[0;34m\u001b[0m\n\u001b[1;32m     13\u001b[0m             \u001b[0mcounting\u001b[0m \u001b[0;34m=\u001b[0m \u001b[0mline\u001b[0m\u001b[0;34m.\u001b[0m\u001b[0mcount\u001b[0m\u001b[0;34m(\u001b[0m\u001b[0;34m'the'\u001b[0m\u001b[0;34m)\u001b[0m\u001b[0;34m\u001b[0m\u001b[0;34m\u001b[0m\u001b[0m\n\u001b[1;32m     14\u001b[0m             \u001b[0mtest\u001b[0m \u001b[0;34m+=\u001b[0m \u001b[0mcounting\u001b[0m\u001b[0;34m\u001b[0m\u001b[0;34m\u001b[0m\u001b[0m\n\u001b[0;32m---> 15\u001b[0;31m \u001b[0mprint\u001b[0m\u001b[0;34m(\u001b[0m\u001b[0mcounting\u001b[0m\u001b[0;34m)\u001b[0m\u001b[0;34m\u001b[0m\u001b[0;34m\u001b[0m\u001b[0m\n\u001b[0m",
      "\u001b[0;31mNameError\u001b[0m: name 'counting' is not defined"
     ]
    }
   ],
   "source": [
    "#knowing that result.txt is the result the compilation of Austen's works in a single file\n",
    "compiled = 'result.txt'\n",
    "\n",
    "with open(compiled, 'r') as text:\n",
    "    test = 0\n",
    "    for line in text:\n",
    "        f = open(compiled, \"r\")\n",
    "        textLine = f.read()\n",
    "        f.close\n",
    "        word_list = line.lower().split()\n",
    "        for line in word_list:\n",
    "            line.count('the')\n",
    "            counting = line.count('the')\n",
    "            test += counting\n",
    "print(counting)"
   ]
  },
  {
   "cell_type": "code",
   "execution_count": null,
   "metadata": {},
   "outputs": [],
   "source": []
  }
 ],
 "metadata": {
  "kernelspec": {
   "display_name": "Python 3",
   "language": "python",
   "name": "python3"
  },
  "language_info": {
   "codemirror_mode": {
    "name": "ipython",
    "version": 3
   },
   "file_extension": ".py",
   "mimetype": "text/x-python",
   "name": "python",
   "nbconvert_exporter": "python",
   "pygments_lexer": "ipython3",
   "version": "3.7.1"
  }
 },
 "nbformat": 4,
 "nbformat_minor": 2
}
