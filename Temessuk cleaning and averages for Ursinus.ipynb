{
 "cells": [
  {
   "cell_type": "code",
   "execution_count": 1,
   "metadata": {},
   "outputs": [],
   "source": [
    "import re\n",
    "import regex\n",
    "import os\n",
    "import nltk\n",
    "from nltk.tokenize import RegexpTokenizer"
   ]
  },
  {
   "cell_type": "code",
   "execution_count": 2,
   "metadata": {},
   "outputs": [],
   "source": [
    "path = \"/home/otzy/Desktop/2018-2019 Winter McGill/Data mining/Projet final/Ursinus.txt\"\n",
    "\n",
    "with open(path, 'r') as f:\n",
    "    text = f.read()\n",
    "    with open(path, 'w') as f:\n",
    "        text = re.sub(r\"         \", \"\", text)\n",
    "        f.write(text)"
   ]
  },
  {
   "cell_type": "code",
   "execution_count": 3,
   "metadata": {},
   "outputs": [],
   "source": [
    "with open(path, 'r') as f:\n",
    "    text = f.read()\n",
    "    with open(path, 'w') as f:\n",
    "        text = re.sub(r\"\\n\\n\", \"\\n\", text)\n",
    "        text = re.sub(r\"^MANASTIR.*\", \"\", text)\n",
    "        text = re.sub(r\"^[0-9].*\", \"\", text)\n",
    "        text = re.sub(r\"Translation:\", \"\\nTranslation:\", text)\n",
    "        text = re.sub(r\"Fol.\", \"\\n\\nFol.\", text)\n",
    "        text = re.sub(r\"\\n.\", \".\", text)\n",
    "        text = re.sub(r\".ranslation:\", \"\\n.ranslation:\", text)\n",
    "        f.write(text)"
   ]
  },
  {
   "cell_type": "code",
   "execution_count": 5,
   "metadata": {},
   "outputs": [],
   "source": [
    "paragraphs = [] # track paragraphs\n",
    "with open(path, 'r') as f:\n",
    "    string = f.read()\n",
    "    pos = 0 # initial position marker (assuming our keyword isn't at the very start)\n",
    "    while(pos>-1): # loop while we have a match\n",
    "        pos = string.find(\"temess\", pos+1) # find next match\n",
    "        leftNewLine = string.rfind(\"\\n\\n\", 0, pos) # find previous newline\n",
    "        rightNewLine = string.find(\"\\n\\n\", pos) # find next newline\n",
    "        paragraph = string[leftNewLine+2:rightNewLine] # isolate paragraph\n",
    "        if paragraph: # if we have a non-empty string\n",
    "            paragraphs.append(paragraph) # add it to the paragraphs\n",
    "os.chdir(path+'temessuke ilgili kaynaklarfin18e')   #changes directory\n",
    "for i, paragraph in enumerate(paragraphs):    #loop through orders number and names in enumerate(paragraphs)\n",
    "    filename = '{0:03d}'.format(i)+'.txt'     #filename starts with three digit, ends with .txt\n",
    "    with open(filename, 'w') as f:            #open filename as writable\n",
    "        f.write(paragraph)                    #writes paragraph"
   ]
  },
  {
   "cell_type": "code",
   "execution_count": null,
   "metadata": {},
   "outputs": [],
   "source": [
    "future_tokenizer = RegexpTokenizer(r\"alaca\")\n",
    "debt_tokenizer = RegexpTokenizer(r\"deyn\")\n",
    "path = \"/home/otzy/Desktop/2018-2019 Winter McGill/Data mining/Projet final/temessuke ilgili kaynaklarfin18e/\"\n",
    "filenames = os.listdir(path)\n",
    "os.chdir(path)\n",
    "print(filenames)\n",
    "value = 0\n",
    "dict_tokenslate18_alacak = {}\n",
    "dict_tokenslate18_deyn = {}\n",
    "for filename in filenames:\n",
    "    with open(filename, 'r') as f:\n",
    "        text = f.read() # read each text and convert to lower case\n",
    "        tokens = future_tokenizer.tokenize(text)\n",
    "        tokens2= debt_tokenizer.tokenize(text)\n",
    "        len1 = len(tokens)\n",
    "        len2 = len(tokens2)\n",
    "        if filename not in dict_tokenslate18_alacak:\n",
    "            dict_tokenslate18_alacak[filename] = len1\n",
    "        if filename not in dict_tokenslate18_deyn:\n",
    "            dict_tokenslate18_deyn[filename] = len2\n",
    "print(dict_tokenslate18_alacak)\n",
    "print(dict_tokenslate18_deyn)"
   ]
  },
  {
   "cell_type": "code",
   "execution_count": null,
   "metadata": {},
   "outputs": [],
   "source": [
    "sum(1 for value in dict_tokenslate18_alacak.values() if value != 0) / len(dict_tokenslate18_alacak)"
   ]
  },
  {
   "cell_type": "code",
   "execution_count": null,
   "metadata": {},
   "outputs": [],
   "source": [
    "filtered_vals = [v for _, v in dict_tokenslate18_alacak.items()]\n",
    "average = sum(filtered_vals) / len(filtered_vals)\n",
    "print(average)\n",
    "filtered_vals = [v for _, v in dict_tokenslate18_deyn.items() if v != 0]\n",
    "average = sum(filtered_vals) / len(filtered_vals)\n",
    "print(average)"
   ]
  },
  {
   "cell_type": "code",
   "execution_count": null,
   "metadata": {},
   "outputs": [],
   "source": [
    "filtered_vals = [v for _, v in dict_tokenslate18_deyn.items()]\n",
    "average = sum(filtered_vals) / len(filtered_vals)\n",
    "print(average)\n",
    "#as their is no value > 0 then, cannot evaluate average based on value > 0"
   ]
  },
  {
   "cell_type": "code",
   "execution_count": 6,
   "metadata": {
    "scrolled": true
   },
   "outputs": [
    {
     "ename": "NameError",
     "evalue": "name 'count' is not defined",
     "output_type": "error",
     "traceback": [
      "\u001b[0;31m---------------------------------------------------------------------------\u001b[0m",
      "\u001b[0;31mNameError\u001b[0m                                 Traceback (most recent call last)",
      "\u001b[0;32m<ipython-input-6-e376969abb2f>\u001b[0m in \u001b[0;36m<module>\u001b[0;34m\u001b[0m\n\u001b[0;32m----> 1\u001b[0;31m \u001b[0mcount\u001b[0m\u001b[0;34m(\u001b[0m\u001b[0mba\u001b[0m\u001b[0;34m)\u001b[0m\u001b[0;34m\u001b[0m\u001b[0;34m\u001b[0m\u001b[0m\n\u001b[0m",
      "\u001b[0;31mNameError\u001b[0m: name 'count' is not defined"
     ]
    }
   ],
   "source": [
    "count(ba)"
   ]
  },
  {
   "cell_type": "code",
   "execution_count": 14,
   "metadata": {},
   "outputs": [
    {
     "name": "stdout",
     "output_type": "stream",
     "text": [
      "2\n",
      "2\n",
      "0\n",
      "2\n",
      "2\n",
      "2\n",
      "2\n",
      "2\n",
      "2\n",
      "2\n",
      "2\n",
      "2\n",
      "1\n",
      "1\n",
      "2\n",
      "2\n",
      "2\n",
      "1\n",
      "2\n",
      "3\n",
      "3\n",
      "1\n",
      "0\n",
      "2\n",
      "2\n",
      "3\n",
      "3\n",
      "1\n",
      "2\n",
      "1\n",
      "5\n",
      "1\n",
      "2\n",
      "1\n",
      "2\n",
      "2\n",
      "3\n",
      "1\n",
      "2\n",
      "0\n",
      "2\n"
     ]
    }
   ],
   "source": [
    "value = 0\n",
    "path = \"/home/otzy/Desktop/2018-2019 Winter McGill/Data mining/Projet final/temessuke ilgili kaynaklarfin18e/\"\n",
    "filenames = os.listdir(path)\n",
    "for filename in filenames:\n",
    "    with open(path+filename, 'r') as f:\n",
    "        text = f.read()\n",
    "        count = text.count(\" ba\")\n",
    "        print(count)"
   ]
  },
  {
   "cell_type": "code",
   "execution_count": null,
   "metadata": {},
   "outputs": [],
   "source": []
  }
 ],
 "metadata": {
  "kernelspec": {
   "display_name": "Python 3",
   "language": "python",
   "name": "python3"
  },
  "language_info": {
   "codemirror_mode": {
    "name": "ipython",
    "version": 3
   },
   "file_extension": ".py",
   "mimetype": "text/x-python",
   "name": "python",
   "nbconvert_exporter": "python",
   "pygments_lexer": "ipython3",
   "version": "3.7.1"
  }
 },
 "nbformat": 4,
 "nbformat_minor": 2
}
