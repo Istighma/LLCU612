{
 "cells": [
  {
   "cell_type": "code",
   "execution_count": 1,
   "metadata": {},
   "outputs": [],
   "source": [
    "import trnltk"
   ]
  },
  {
   "cell_type": "code",
   "execution_count": 2,
   "metadata": {},
   "outputs": [
    {
     "name": "stdout",
     "output_type": "stream",
     "text": [
      "Help on package trnltk:\n",
      "\n",
      "NAME\n",
      "    trnltk - Copyright  2012  Ali Ok (aliokATapacheDOTorg)\n",
      "\n",
      "DESCRIPTION\n",
      "    Licensed under the Apache License, Version 2.0 (the \"License\");\n",
      "    you may not use this file except in compliance with the License.\n",
      "    You may obtain a copy of the License at\n",
      "    \n",
      "       http://www.apache.org/licenses/LICENSE-2.0\n",
      "    \n",
      "    Unless required by applicable law or agreed to in writing, software\n",
      "    distributed under the License is distributed on an \"AS IS\" BASIS,\n",
      "    WITHOUT WARRANTIES OR CONDITIONS OF ANY KIND, either express or implied.\n",
      "    See the License for the specific language governing permissions and\n",
      "    limitations under the License.\n",
      "\n",
      "PACKAGE CONTENTS\n",
      "    experiments (package)\n",
      "    morphology (package)\n",
      "    ngrams (package)\n",
      "    parseset (package)\n",
      "    playground (package)\n",
      "    statistical (package)\n",
      "    statistics (package)\n",
      "    tokenizer (package)\n",
      "    transition (package)\n",
      "    treebank (package)\n",
      "\n",
      "FILE\n",
      "    /home/otzy/anaconda3/lib/python3.7/site-packages/trnltk/__init__.py\n",
      "\n",
      "\n"
     ]
    }
   ],
   "source": [
    "help(trnltk)"
   ]
  },
  {
   "cell_type": "code",
   "execution_count": 3,
   "metadata": {},
   "outputs": [
    {
     "name": "stdout",
     "output_type": "stream",
     "text": [
      "textin ağamasının ailesinden\n",
      "<class 'str'>\n"
     ]
    }
   ],
   "source": [
    "text = \"textin ağamasının ailesinden\"\n",
    "text = text.strip()\n",
    "print(text)\n",
    "print(type(text))"
   ]
  },
  {
   "cell_type": "code",
   "execution_count": 4,
   "metadata": {},
   "outputs": [],
   "source": [
    "import unittest\n",
    "from trnltk.tokenizer.texttokenizer import TextTokenizer"
   ]
  },
  {
   "cell_type": "code",
   "execution_count": 6,
   "metadata": {},
   "outputs": [
    {
     "ename": "TypeError",
     "evalue": "TextTokenizer() takes no arguments",
     "output_type": "error",
     "traceback": [
      "\u001b[0;31m---------------------------------------------------------------------------\u001b[0m",
      "\u001b[0;31mTypeError\u001b[0m                                 Traceback (most recent call last)",
      "\u001b[0;32m<ipython-input-6-9d42c2ffe566>\u001b[0m in \u001b[0;36m<module>\u001b[0;34m\u001b[0m\n\u001b[0;32m----> 1\u001b[0;31m \u001b[0mprint\u001b[0m\u001b[0;34m(\u001b[0m\u001b[0mtrnltk\u001b[0m\u001b[0;34m.\u001b[0m\u001b[0mtokenizer\u001b[0m\u001b[0;34m.\u001b[0m\u001b[0mtexttokenizer\u001b[0m\u001b[0;34m.\u001b[0m\u001b[0mTextTokenizer\u001b[0m\u001b[0;34m(\u001b[0m\u001b[0mtext\u001b[0m\u001b[0;34m)\u001b[0m\u001b[0;34m)\u001b[0m\u001b[0;34m\u001b[0m\u001b[0;34m\u001b[0m\u001b[0m\n\u001b[0m",
      "\u001b[0;31mTypeError\u001b[0m: TextTokenizer() takes no arguments"
     ]
    }
   ],
   "source": [
    "print(trnltk.tokenizer.texttokenizer.TextTokenizer(text))"
   ]
  },
  {
   "cell_type": "code",
   "execution_count": 7,
   "metadata": {},
   "outputs": [
    {
     "ename": "TypeError",
     "evalue": "'module' object is not callable",
     "output_type": "error",
     "traceback": [
      "\u001b[0;31m---------------------------------------------------------------------------\u001b[0m",
      "\u001b[0;31mTypeError\u001b[0m                                 Traceback (most recent call last)",
      "\u001b[0;32m<ipython-input-7-7c746cbff72e>\u001b[0m in \u001b[0;36m<module>\u001b[0;34m\u001b[0m\n\u001b[0;32m----> 1\u001b[0;31m \u001b[0mtrnltk\u001b[0m\u001b[0;34m.\u001b[0m\u001b[0mtokenizer\u001b[0m\u001b[0;34m(\u001b[0m\u001b[0mtext\u001b[0m\u001b[0;34m)\u001b[0m\u001b[0;34m\u001b[0m\u001b[0;34m\u001b[0m\u001b[0m\n\u001b[0m",
      "\u001b[0;31mTypeError\u001b[0m: 'module' object is not callable"
     ]
    }
   ],
   "source": [
    "trnltk.tokenizer(text)"
   ]
  },
  {
   "cell_type": "code",
   "execution_count": null,
   "metadata": {},
   "outputs": [],
   "source": []
  }
 ],
 "metadata": {
  "kernelspec": {
   "display_name": "Python 3",
   "language": "python",
   "name": "python3"
  },
  "language_info": {
   "codemirror_mode": {
    "name": "ipython",
    "version": 3
   },
   "file_extension": ".py",
   "mimetype": "text/x-python",
   "name": "python",
   "nbconvert_exporter": "python",
   "pygments_lexer": "ipython3",
   "version": "3.7.1"
  }
 },
 "nbformat": 4,
 "nbformat_minor": 2
}
