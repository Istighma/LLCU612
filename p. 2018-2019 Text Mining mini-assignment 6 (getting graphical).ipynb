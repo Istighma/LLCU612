{
 "cells": [
  {
   "cell_type": "markdown",
   "metadata": {},
   "source": [
    "# Getting Graphical:"
   ]
  },
  {
   "cell_type": "markdown",
   "metadata": {},
   "source": [
    "The goal of this project is to produce a graph of word frequencies from a corpus of text. From a compilation of .txt files, I comile them into a single file in order to produce a word count, and then produce a graph from it. Below is a Voyant-Tools embedded graph that is also a representation of word frequency from the same corpus."
   ]
  },
  {
   "cell_type": "code",
   "execution_count": 7,
   "metadata": {},
   "outputs": [
    {
     "name": "stdout",
     "output_type": "stream",
     "text": [
      "['unknown pubDate - Bab 54 nolu sicilindd.pdf.txt', 'unknown pubDate - Eyup 19 nolu sicilindd.pdf.txt', 'Galata 90indd - unknown pubDate.pdf.txt', 'unknown pubDate - 0 - 1.pdf.txt', 'unknown pubDate - 0 - 3.pdf.txt', 'Galata 20indd - unknown pubDate.pdf.txt', 'Galata 7 sicilindd - unknown pubDate.pdf.txt', 'unknown pubDate - Eyup 90 nolu sicilindd.pdf.txt', 'unknown pubDate - Rumeli 21 sicilindd.pdf.txt', 'unknown pubDate - Eyup 37 nolu sicilindd.pdf.txt', 'Galata 37 sicilindd - unknown pubDate.pdf.txt', 'unknown pubDate - Haskoy 5 sicilindd.pdf.txt', 'unknown pubDate - Eyup 3 nolu sicilindd.pdf.txt', 'Galata 15 sicilindd - unknown pubDate.pdf.txt', 'unknown pubDate - Üsküdar 5 nolu sicilindd.pdf.txt', 'unknown pubDate - 0 - 2.pdf.txt', 'unknown pubDate - Üsküdar 9 nolu sicilindd.pdf.txt', 'unknown pubDate - Üsküdar 26 nolu sicilindd.pdf.txt', 'unknown pubDate - Üsküdar 56 nolu sicilindd.pdf.txt', 'unknown pubDate - 0.pdf.txt', 'unknown pubDate - Balat 2 sicilindd.pdf.txt', 'unknown pubDate - Eyup 82 nolu sicilindd.pdf.txt', 'unknown pubDate - Bab 3 nolu sicilindd.pdf.txt', 'unknown pubDate - Uskudar 14 nolu sicilindd.pdf.txt', 'unknown pubDate - Eyup 74 nolu sicilindd.pdf.txt', 'unknown pubDate - Rumeli 56 sicilindd.pdf.txt', 'unknown pubDate - Üsküdar 84 nolu sicilindd.pdf.txt', 'unknown pubDate - Üsküdar 51 nolu sicilindd.pdf.txt', 'Galata 65indd - unknown pubDate.pdf.txt', 'unknown pubDate - Haskoy 10 sicilindd.pdf.txt', 'Galata 32 sicilindd - unknown pubDate.pdf.txt', 'Galata 5indd - unknown pubDate.pdf.txt', 'unknown pubDate - Uskudar 17 nolu sicilindd.pdf.txt', 'unknown pubDate - Bab 46 nolu sicilindd.pdf.txt', 'unknown pubDate - Rumeli 80 nolu sicilindd.pdf.txt', 'unknown pubDate - Eyup 49 nolu sicilindd.pdf.txt', 'unknown pubDate - 334sk374dar 2 nolu sicili.pdf.txt', 'Galata 46 sicilindd - unknown pubDate.pdf.txt', 'unknown pubDate - Eyup 61 nolu sicilindd.pdf.txt', 'unknown pubDate - 334sk374dar 1 nolu sicili.pdf.txt']\n"
     ]
    }
   ],
   "source": [
    "import nltk        #imports Natural language toolkit kernel\n",
    "import re          #imports Regular Expressions\n",
    "import os          #imports Miscellenous Operation system interfaces\n",
    "\n",
    "\n",
    "path = \"/home/otzy/Notebookana/Assignment 6/text.txt/\" #defines path to files\n",
    "\n",
    "#all filenames of the file in that path are included in filenames, allowing for loop\n",
    "filenames = os.listdir(path) \n",
    "print(filenames) #confirms that all filenames are .txt files\n",
    "for filename in filenames:   #start loop for every filename in the list of filenames\n",
    "    with open(path+filename, 'r') as f:  #\"with clause\" opens and reads file as\n",
    "                                         #f. filename closes automatically at the end\n",
    "        string = f.read()                # creates a string from f.read\n",
    "        with open(path+'compiled', 'a+') as f: \n",
    "            f.write(string) #appends the file with the string\n",
    "            #the \"with clause\" closes"
   ]
  },
  {
   "cell_type": "markdown",
   "metadata": {},
   "source": [
    "Below are the commands to create the graph."
   ]
  },
  {
   "cell_type": "code",
   "execution_count": 8,
   "metadata": {},
   "outputs": [
    {
     "data": {
      "image/png": "[encoded data removed]",
      "text/plain": [
       "<Figure size 432x288 with 1 Axes>"
      ]
     },
     "metadata": {
      "needs_background": "light"
     },
     "output_type": "display_data"
    }
   ],
   "source": [
    "%matplotlib inline\n",
    "\n",
    "ottoman = nltk.corpus.gutenberg.words(path+'compiled') # tokenizes/load words of file 'compiled'\n",
    "#lower cases of all words if, words first index is a letter\n",
    "words = [word.lower() for word in ottoman if word[0].isalpha()]\n",
    "freqs = nltk.FreqDist(words) # creates a word frequency list\n",
    "freqs.plot(50) # presents the graphic form of the top 50 words"
   ]
  },
  {
   "cell_type": "markdown",
   "metadata": {},
   "source": [
    "Finally, below is the use of a similar graoh built through Voyant-tools' online version.Observe the variants, nice aesthetics, and how the live interface allows us to explore specific terms of the corpus."
   ]
  },
  {
   "cell_type": "code",
   "execution_count": 10,
   "metadata": {},
   "outputs": [
    {
     "data": {
      "text/html": [
       "\n",
       "        <iframe\n",
       "            width=\"500\"\n",
       "            height=\"500\"\n",
       "            src=\"https://voyant-tools.org/?corpus=ea1f84bb725e8600f5f4c2f679e43d49&query=i&query=b&query=%C4%B1&query=mehmed&query=mezb%C3%BBr&mode=document&view=Trends\"\n",
       "            frameborder=\"0\"\n",
       "            allowfullscreen\n",
       "        ></iframe>\n",
       "        "
      ],
      "text/plain": [
       "<IPython.lib.display.IFrame at 0x7f0fb8a01080>"
      ]
     },
     "execution_count": 10,
     "metadata": {},
     "output_type": "execute_result"
    }
   ],
   "source": [
    "from IPython.display import IFrame  #imports IFrame from Ipython.display servers\n",
    "#Iframe('insert_link') is a function of Iframe that allows one to embed a graph safely.\n",
    "#the graph isn't blocked by the security text.\n",
    "IFrame('https://voyant-tools.org/?corpus=ea1f84bb725e8600f5f4c2f679e43d49&query=i&query=b&query=%C4%B1&query=mehmed&query=mezb%C3%BBr&mode=document&view=Trends', width=500, height=500)"
   ]
  },
  {
   "cell_type": "code",
   "execution_count": null,
   "metadata": {},
   "outputs": [],
   "source": []
  }
 ],
 "metadata": {
  "kernelspec": {
   "display_name": "Python 3",
   "language": "python",
   "name": "python3"
  },
  "language_info": {
   "codemirror_mode": {
    "name": "ipython",
    "version": 3
   },
   "file_extension": ".py",
   "mimetype": "text/x-python",
   "name": "python",
   "nbconvert_exporter": "python",
   "pygments_lexer": "ipython3",
   "version": "3.7.1"
  }
 },
 "nbformat": 4,
 "nbformat_minor": 2
}
