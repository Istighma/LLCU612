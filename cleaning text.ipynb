{
 "cells": [
  {
   "cell_type": "code",
   "execution_count": 30,
   "metadata": {},
   "outputs": [
    {
     "name": "stdout",
     "output_type": "stream",
     "text": [
      "['unknown pubDate - Eyup 19 nolu sicilindd.pdf.txt', 'unknown pubDate - Eyup 3 nolu sicilindd.pdf.txt', 'unknown pubDate - Balat 2 sicilindd.pdf.txt', 'compiled']\n"
     ]
    }
   ],
   "source": [
    "import os\n",
    "import re\n",
    "\n",
    "path = \"/home/otzy/Desktop/Documents projet final/text/test/\"\n",
    "os.chdir(path)\n",
    "filenames = os.listdir(path)\n",
    "print(filenames)"
   ]
  },
  {
   "cell_type": "code",
   "execution_count": 31,
   "metadata": {},
   "outputs": [],
   "source": [
    "for filename in filenames:\n",
    "    with open(path+filename, 'a+') as f:\n",
    "        f.write(\" end \")"
   ]
  },
  {
   "cell_type": "code",
   "execution_count": 38,
   "metadata": {},
   "outputs": [],
   "source": [
    "for filename in filenames:\n",
    "    with open(path+filename, 'a+') as f:\n",
    "        text = f.read()\n",
    "        start = text.find(\"1a-2\")\n",
    "        end = text.find(\"end\")\n",
    "        short_text = text[start:end]\n",
    "        f.write(short_text)"
   ]
  },
  {
   "cell_type": "code",
   "execution_count": 35,
   "metadata": {},
   "outputs": [
    {
     "name": "stdout",
     "output_type": "stream",
     "text": [
      "suis perdu\n"
     ]
    }
   ],
   "source": [
    "text = \"Je suis perdu en masse\"\n",
    "start = text.find(\"suis\")\n",
    "end = text.find(\" en \")\n",
    "short_text = text[start:end]\n",
    "print(text[start:end])"
   ]
  },
  {
   "cell_type": "code",
   "execution_count": 34,
   "metadata": {},
   "outputs": [],
   "source": [
    "with open(path+filename, 'a+') as f:\n",
    "    text = f.read()\n",
    "    start = text.find(\"1a-2\")\n",
    "    end = text.find(\"end\")\n",
    "    short_text = text[start:end]\n",
    "    with open(path+'compiled', 'w') as f:\n",
    "      f.write(short_text)"
   ]
  },
  {
   "cell_type": "code",
   "execution_count": null,
   "metadata": {},
   "outputs": [],
   "source": []
  }
 ],
 "metadata": {
  "kernelspec": {
   "display_name": "Python 3",
   "language": "python",
   "name": "python3"
  },
  "language_info": {
   "codemirror_mode": {
    "name": "ipython",
    "version": 3
   },
   "file_extension": ".py",
   "mimetype": "text/x-python",
   "name": "python",
   "nbconvert_exporter": "python",
   "pygments_lexer": "ipython3",
   "version": "3.7.1"
  }
 },
 "nbformat": 4,
 "nbformat_minor": 2
}
