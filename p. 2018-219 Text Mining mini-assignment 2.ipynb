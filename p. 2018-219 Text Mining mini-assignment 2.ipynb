{
 "cells": [
  {
   "cell_type": "markdown",
   "metadata": {},
   "source": [
    "# We want to text edit a text that is online. To do so I will import the url through this command and make sure the website that has the text, that is gutenburg.org, will recognize me. To do so I need to look like a human, and not a bot. Then, I briefly clean the text with the help of the BeautifulSoup plateform. Finally, I have a peak at the printed text to make sure it worked properly.\n"
   ]
  },
  {
   "cell_type": "code",
   "execution_count": 1,
   "metadata": {},
   "outputs": [
    {
     "name": "stdout",
     "output_type": "stream",
     "text": [
      "he sun 'gins his reflection\r\n",
      "Shipwrecking storms and direful thunders break;\r\n",
      "So from that spring, whence comfort seem'd to come\r\n",
      "Discomfort swells. Mark, King of Scotland, mark:\r\n",
      "No sooner justice had, with valor arm'd,\r\n",
      "Compell'd these skipping kerns to trust their heels,\r\n",
      "But the Norweyan lord, surveying vantage,\r\n",
      "With furbish'd arms and new supplies of men,\r\n",
      "Began a fresh assault.\r\n",
      "\r\n",
      "DUNCAN.\r\n",
      "Dismay'd not this\r\n",
      "Our captains, Macbeth and Banquo?\r\n",
      "\r\n",
      "SOLDIER.\r\n",
      "Yes;\r\n",
      "As sparrows eagles, or the hare the lion.\r\n",
      "If I say sooth, I must report they were\r\n",
      "As cannons overcharg'd with double cracks;\r\n",
      "So they\r\n",
      "Doubly redoubled strokes upon the foe:\r\n",
      "Except they meant to bathe in reeking wounds,\r\n",
      "Or memorize another Golgotha,\r\n",
      "I cannot tell:--\r\n",
      "But I am faint; my gashes cry for help.\r\n",
      "\r\n",
      "DUNCAN.\r\n",
      "So well thy words become thee as thy wounds;\r\n",
      "They smack of honor both.--Go, get him surgeons.\r\n",
      "\r\n",
      "[Exit Soldier, attended.]\r\n",
      "\r\n",
      "Who comes here?\r\n",
      "\r\n",
      "MALCOLM.\r\n",
      "The worthy Thane of Ross.\r\n",
      "\r\n",
      "LENNOX.\r\n",
      "What a ha\n"
     ]
    }
   ],
   "source": [
    "#this is step two because I had printed the whole text, I now print only 1000 indexes.\n",
    "import urllib.request\n",
    "import re\n",
    "from bs4 import BeautifulSoup\n",
    "\n",
    "url = \"http://www.gutenberg.org/cache/epub/1533/pg1533.txt\"\n",
    "html = urllib.request.urlopen(url).read()  #this step defines HTLM as a request to access to the url from the server hosting it. It also equates htlm with opening the URL. Then, it reads the URL.\n",
    "soup = BeautifulSoup(html)   # This defines the soup as the target of the BeautifulSoup(htlm)\n",
    "# This step defines the text.\n",
    "text = soup.get_text()\n",
    "# the goal of this step is to clean the text with BeautifulSoup functionalities, and turn it into plain text.\n",
    "for script in soup([\"script\", \"style\"]):\n",
    "    script.extract()    # rip it out\n",
    "\n",
    "print(text[15000:16000]) #printing the text from index 15 000 to index 16 000"
   ]
  },
  {
   "cell_type": "markdown",
   "metadata": {},
   "source": [
    "# If the goal of our analysis is to analyze the spoken parts of it, then the scene descriptions and the character names will disturb future search results in the text. Moreover, it will slow down the research task I later execute, the fewer text, the better.\n",
    "# But first, as we know in gutenberg.org, there are long property right introductions. let's eliminate that by determining the start and the end of the actual text."
   ]
  },
  {
   "cell_type": "code",
   "execution_count": 2,
   "metadata": {},
   "outputs": [
    {
     "name": "stdout",
     "output_type": "stream",
     "text": [
      "ACT I.\r\n",
      "\r\n",
      "SCENE I. An open Place. Thunder and Lightning.\r\n",
      "\r\n",
      "[Enter three Witches.]\r\n",
      "\r\n",
      "FIRST WITCH.\r\n",
      "When shall we three meet again?\r\n",
      "In thunder, light \n",
      "[...]\n",
      " l perform in measure, time, and place:\r\n",
      "So, thanks to all at once, and to each one,\r\n",
      "Whom we invite to see us crown'd at Scone.\r\n",
      "\r\n",
      "[Flourish. Exeunt.]\n"
     ]
    }
   ],
   "source": [
    "start = text.find(\"ACT I\") #manually identified the beginning of the text\n",
    "end = text.find(\"End of Project Gutenberg Etext\") \n",
    "short_text = text[start:end].strip()\n",
    "# show start and end of goldBugString\n",
    "print(short_text[:150], \"\"\"\n",
    "[...]\n",
    "\"\"\", short_text[-150:])"
   ]
  },
  {
   "cell_type": "markdown",
   "metadata": {},
   "source": [
    "# Ok, great. Now let's clean this by removing the character names and scenes."
   ]
  },
  {
   "cell_type": "code",
   "execution_count": 4,
   "metadata": {},
   "outputs": [
    {
     "name": "stdout",
     "output_type": "stream",
     "text": [
      "s to be trusted with them.\r\n",
      "\r\n",
      "\r\n",
      "O, yet I do repent me of my fury,\r\n",
      "That I did kill them.\r\n",
      "\r\n",
      "\r\n",
      "Wherefore did you so?\r\n",
      "\r\n",
      "\r\n",
      "Who can be wise, amaz'd, temperate, and furious,\r\n",
      "Loyal and neutral, in a moment? No man:\r\n",
      "The expedition of my violent love\r\n",
      "Outrun the pauser reason. Here lay Duncan,\r\n",
      "His silver skin lac'd with his golden blood;\r\n",
      "And his gash'd stabs look'd like a breach in nature\r\n",
      "For ruin's wasteful entrance: there, the murderers,\r\n",
      "Steep'd in the colours of their trade, their daggers\r\n",
      "Unmannerly breech'd with gore: who could refrain,\r\n",
      "That had a heart to love, and in that heart\r\n",
      "Courage to make's love known?\r\n",
      "\r\n",
      "\r\n",
      "Help me hence, ho!\r\n",
      "\r\n",
      "\r\n",
      "Look to the lady.\r\n",
      "\r\n",
      "\r\n",
      "Why do we hold our tongues,\r\n",
      "That most may claim this argument for ours?\r\n",
      "\r\n",
      "\r\n",
      "What should be spoken here, where our fate,\r\n",
      "Hid in an auger hole, may rush, and seize us?\r\n",
      "Let's away;\r\n",
      "Our tears are not yet brew'd.\r\n",
      "\r\n",
      "\r\n",
      "Nor our strong sorrow\r\n",
      "Upon the foot of motion.\r\n",
      "\r\n",
      "\r\n",
      "Look to the lady:--\r\n",
      "\r\n",
      "\r\n",
      "\r\n",
      "And when we have our naked \n"
     ]
    }
   ],
   "source": [
    "#this is step 6 because I played with the indexes to print only a part of the text\n",
    "re.sub(r\"(([A-Z].*([A-Z][.]))|\\[(.*?)\\]|\\[.*$|.*?])\", \"\", short_text)\n",
    "short_text = re.sub(r\"(([A-Z].*([A-Z][.]))|\\[(.*?)\\]|\\[.*$|.*?])\", \"\", short_text)\n",
    "print(short_text[33000:34000])"
   ]
  },
  {
   "cell_type": "markdown",
   "metadata": {},
   "source": [
    "# Ok, nice. Now I want to make the text even cleaner. Let's remove the empty lines."
   ]
  },
  {
   "cell_type": "code",
   "execution_count": 5,
   "metadata": {},
   "outputs": [
    {
     "name": "stdout",
     "output_type": "stream",
     "text": [
      "ave seen\n",
      "Hours dreadful and things strange; but this sore night\n",
      "Hath trifled former knowings.\n",
      "Ah, good father,\n",
      "Thou seest, the heavens, as troubled with man's act,\n",
      "Threaten his bloody stage: by the clock 'tis day,\n",
      "And yet dark night strangles the travelling lamp;\n",
      "Is't night's predominance, or the day's shame,\n",
      "That darkness does the face of earth entomb,\n",
      "When living light should kiss it?\n",
      "'Tis unnatural,\n",
      "Even like the deed that's done. On Tuesday last,\n",
      "A falcon, towering in her pride of place,\n",
      "Was by a mousing owl hawk'd at and kill'd.\n",
      "And Duncan's horses,--a thing most strange and certain,--\n",
      "Beauteous and swift, the minions of their race,\n",
      "Turn'd wild in nature, broke their stalls, flung out,\n",
      "Contending 'gainst obedience, as they would make\n",
      "War with mankind.\n",
      "'Tis said they eat each other.\n",
      "They did so; to the amazement of mine eyes,\n",
      "That look'd upon't.\n",
      "Here comes the good Macduff.\n",
      "How goes the world, sir, now?\n",
      "Why, see you not?\n",
      "Is't known who did this more than bloody deed?\n",
      "Those that Mac\n"
     ]
    }
   ],
   "source": [
    "# The following section breaks down the text, and cleans it.\n",
    "lines = (line.strip() for line in short_text.splitlines())\n",
    "# break multi-headlines into a line each\n",
    "chunks = (phrase.strip() for line in lines for phrase in line.split(\"  \"))\n",
    "# drop blank lines\n",
    "short_text = '\\n'.join(chunk for chunk in chunks if chunk)\n",
    "print(short_text[33000:34000]) # printing a small part of the text!"
   ]
  },
  {
   "cell_type": "markdown",
   "metadata": {},
   "source": [
    "# Fantastic! Now let's save this string in a file so we have the text locally and do not depend on the Internet."
   ]
  },
  {
   "cell_type": "code",
   "execution_count": 7,
   "metadata": {},
   "outputs": [],
   "source": [
    "import os\n",
    "with open(\"miniassignment2.txt\", \"w\") as f:\n",
    "    f.write(short_text)"
   ]
  },
  {
   "cell_type": "markdown",
   "metadata": {},
   "source": [
    "# Voila! We now have a clean and local file with the text of Macbeth."
   ]
  },
  {
   "cell_type": "code",
   "execution_count": null,
   "metadata": {},
   "outputs": [],
   "source": []
  }
 ],
 "metadata": {
  "kernelspec": {
   "display_name": "Python 3",
   "language": "python",
   "name": "python3"
  },
  "language_info": {
   "codemirror_mode": {
    "name": "ipython",
    "version": 3
   },
   "file_extension": ".py",
   "mimetype": "text/x-python",
   "name": "python",
   "nbconvert_exporter": "python",
   "pygments_lexer": "ipython3",
   "version": "3.7.1"
  }
 },
 "nbformat": 4,
 "nbformat_minor": 2
}
