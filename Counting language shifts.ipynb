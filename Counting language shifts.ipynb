{
 "cells": [
  {
   "cell_type": "code",
   "execution_count": 1,
   "metadata": {},
   "outputs": [],
   "source": [
    "import re\n",
    "import regex\n",
    "import os\n",
    "import nltk\n",
    "from nltk.tokenize import RegexpTokenizer\n",
    "from nltk.corpus import PlaintextCorpusReader"
   ]
  },
  {
   "cell_type": "code",
   "execution_count": 2,
   "metadata": {},
   "outputs": [
    {
     "name": "stdout",
     "output_type": "stream",
     "text": [
      "This confirms we are in the right path:\n",
      "['432.txt', '064.txt', '556.txt', '295.txt', '228.txt', '121.txt', '520.txt', '265.txt', '429.txt']\n",
      "We are!\n"
     ]
    }
   ],
   "source": [
    "path = \"/home/otzy/Desktop/2018-2019 Winter McGill/Data mining/Projet final/temessuke ilgili kaynaklar.6/\"\n",
    "filenames = os.listdir(path)\n",
    "os.chdir(path)\n",
    "print(\"This confirms we are in the right path:\")\n",
    "print(filenames[1:10])\n",
    "print(\"We are!\")"
   ]
  },
  {
   "cell_type": "markdown",
   "metadata": {},
   "source": [
    "Now, we have to tokenize the tokens, but because of the endless stop words and connectors of transliterated Ottoman Turkish sources, I have to use regexp_tokenize."
   ]
  },
  {
   "cell_type": "code",
   "execution_count": 3,
   "metadata": {},
   "outputs": [],
   "source": [
    "future_tokenizer = RegexpTokenizer(r\"alaca\")\n",
    "debt_tokenizer = RegexpTokenizer(r\"deyn\")"
   ]
  },
  {
   "cell_type": "code",
   "execution_count": 4,
   "metadata": {},
   "outputs": [],
   "source": [
    "#making a corpus and tokenizing it\n",
    "string = \"\"\n",
    "count = []\n",
    "count_debt = []\n",
    "value = 0\n",
    "dict_tokens = {}\n",
    "dict_tokens2 = {}\n",
    "for filename in filenames:\n",
    "    with open(filename, 'r') as f:\n",
    "        text = f.read() # read each text and convert to lower case\n",
    "        tokens = future_tokenizer.tokenize(text)\n",
    "        tokens2= debt_tokenizer.tokenize(text)\n",
    "        len1 = len(tokens)\n",
    "        len2 = len(tokens2)\n",
    "        if filename not in dict_tokens:\n",
    "            dict_tokens[filename] = len1\n",
    "        if filename not in dict_tokens2:\n",
    "            dict_tokens2[filename] = len2"
   ]
  },
  {
   "cell_type": "code",
   "execution_count": 5,
   "metadata": {},
   "outputs": [
    {
     "name": "stdout",
     "output_type": "stream",
     "text": [
      "This is the average number of times the word 'alacak'(and its various forms) appear per entry discussing temessuks:\n",
      "0.15241057542768274\n",
      "And the average exlucing entries with no mention of 'alacak'(and its various forms):\n",
      "1.0425531914893618\n"
     ]
    }
   ],
   "source": [
    "filtered_vals = [v for _, v in dict_tokens.items()]\n",
    "average_1617_alacak = sum(filtered_vals) / len(filtered_vals)\n",
    "print(\"This is the average number of times the word 'alacak'(and its various forms) appear per entry discussing temessuks:\")\n",
    "print(average_1617_alacak)\n",
    "filtered_vals = [v for _, v in dict_tokens.items() if v != 0]\n",
    "average = sum(filtered_vals) / len(filtered_vals)\n",
    "print(\"And the average exlucing entries with no mention of 'alacak'(and its various forms):\")\n",
    "print(average)"
   ]
  },
  {
   "cell_type": "code",
   "execution_count": 6,
   "metadata": {},
   "outputs": [
    {
     "name": "stdout",
     "output_type": "stream",
     "text": [
      "This is the average number of times the word 'deyn' appear per entry discussing temessuks:\n",
      "0.5972006220839814\n",
      "And the average exlucing entries with no mention of 'deyn':\n",
      "0.5972006220839814\n"
     ]
    }
   ],
   "source": [
    "filtered_vals = [v for _, v in dict_tokens2.items()]\n",
    "average_1617_deyn = sum(filtered_vals) / len(filtered_vals)\n",
    "print(\"This is the average number of times the word 'deyn' appear per entry discussing temessuks:\")\n",
    "print(average_1617_deyn)\n",
    "filtered_vals = [v for _, v in dict_tokens2.items()]\n",
    "average = sum(filtered_vals) / len(filtered_vals)\n",
    "print(\"And the average exlucing entries with no mention of 'deyn':\")\n",
    "print(average)"
   ]
  },
  {
   "cell_type": "code",
   "execution_count": 7,
   "metadata": {},
   "outputs": [],
   "source": [
    "newpath = \"/home/otzy/Desktop/2018-2019 Winter McGill/Data mining/Projet final/temessuke ilgili kaynaklar/\"\n",
    "filenames = os.listdir(newpath)\n",
    "value = 0\n",
    "dict_tokens21 = {}\n",
    "dict_tokens22 = {}\n",
    "for filename in filenames:\n",
    "    with open(filename, 'r') as f:\n",
    "        text = f.read() # read each text and convert to lower case\n",
    "        tokens = future_tokenizer.tokenize(text)\n",
    "        tokens2= debt_tokenizer.tokenize(text)\n",
    "        len1 = len(tokens)\n",
    "        len2 = len(tokens2)\n",
    "        count += tokens\n",
    "        count_debt += tokens2\n",
    "        if filename not in dict_tokens21:\n",
    "            dict_tokens21[filename] = len1\n",
    "        if filename not in dict_tokens22:\n",
    "            dict_tokens22[filename] = len2"
   ]
  },
  {
   "cell_type": "code",
   "execution_count": 8,
   "metadata": {},
   "outputs": [
    {
     "name": "stdout",
     "output_type": "stream",
     "text": [
      "0.22077922077922077\n",
      "1.0\n"
     ]
    }
   ],
   "source": [
    "filtered_vals = [v for _, v in dict_tokens21.items()]\n",
    "average_mid18_alacak = sum(filtered_vals) / len(filtered_vals)\n",
    "print(average_mid18_alacak)\n",
    "filtered_vals = [v for _, v in dict_tokens21.items() if v != 0]\n",
    "average = sum(filtered_vals) / len(filtered_vals)\n",
    "print(average)"
   ]
  },
  {
   "cell_type": "code",
   "execution_count": 9,
   "metadata": {},
   "outputs": [
    {
     "name": "stdout",
     "output_type": "stream",
     "text": [
      "0.15584415584415584\n",
      "1.7142857142857142\n"
     ]
    }
   ],
   "source": [
    "filtered_vals = [v for _, v in dict_tokens22.items()]\n",
    "average_mid18_deyn = sum(filtered_vals) / len(filtered_vals)\n",
    "print(average_mid18_deyn)\n",
    "filtered_vals = [v for _, v in dict_tokens22.items() if v != 0]\n",
    "average = sum(filtered_vals) / len(filtered_vals)\n",
    "print(average)"
   ]
  },
  {
   "cell_type": "code",
   "execution_count": 18,
   "metadata": {},
   "outputs": [
    {
     "name": "stdout",
     "output_type": "stream",
     "text": [
      "High five! You successfully sent some data to your account on plotly. View your plot in your browser at https://plot.ly/~Istighna/0 or inside your plot.ly account where it is named 'grouped-bar'\n"
     ]
    },
    {
     "data": {
      "text/html": [
       "<iframe id=\"igraph\" scrolling=\"no\" style=\"border:none;\" seamless=\"seamless\" src=\"https://plot.ly/~Istighna/0.embed\" height=\"525px\" width=\"100%\"></iframe>"
      ],
      "text/plain": [
       "<chart_studio.tools.PlotlyDisplay object>"
      ]
     },
     "execution_count": 18,
     "metadata": {},
     "output_type": "execute_result"
    }
   ],
   "source": [
    "import nltk\n",
    "import plotly\n",
    "import plotly.plotly as py\n",
    "import plotly.graph_objs as go\n",
    "plotly.tools.set_credentials_file(username='istighna', api_key='q8qyzG9m6vCrsuFPhQyM')\n",
    "trace1 = go.Bar(\n",
    "    x=['16th & 17th Centuries', 'Mid-18th Century', 'Late 18th Century'],\n",
    "    y=[average_1617_deyn, average_mid18_deyn, 0.0],\n",
    "    name='Use of Deyn'\n",
    ")\n",
    "trace2 = go.Bar(\n",
    "    x=['16th & 17th Centuries', 'Mid-18th Century', 'Late 18th Century'],\n",
    "    y=[average_1617_alacak, average_mid18_alacak, 0.7560975609756098],\n",
    "    name='Use of Alacak'\n",
    ")\n",
    "\n",
    "data = [trace1, trace2]\n",
    "layout = go.Layout(\n",
    "    barmode='group'\n",
    ")\n",
    "\n",
    "fig = go.Figure(data=data, layout=layout)\n",
    "py.iplot(fig, filename='grouped-bar')"
   ]
  },
  {
   "cell_type": "code",
   "execution_count": 15,
   "metadata": {},
   "outputs": [
    {
     "name": "stdout",
     "output_type": "stream",
     "text": [
      "Pourcentage of documents in which alacak appears:\n",
      "0.14618973561430793\n",
      "Pourcentage of documents in which deyn appears:\n",
      "0.2177293934681182\n"
     ]
    }
   ],
   "source": [
    "print(\"Pourcentage of documents in which alacak appears:\")\n",
    "print(sum(1 for v in dict_tokens.values() if v != 0) / len(dict_tokens))\n",
    "print(\"Pourcentage of documents in which deyn appears:\")\n",
    "print(sum(1 for v in dict_tokens2.values() if v != 0) / len(dict_tokens2))"
   ]
  },
  {
   "cell_type": "code",
   "execution_count": 16,
   "metadata": {},
   "outputs": [
    {
     "name": "stdout",
     "output_type": "stream",
     "text": [
      "Pourcentage of documents in which alacak appears:\n",
      "0.22077922077922077\n",
      "Pourcentage of documents in which deyn appears:\n",
      "0.09090909090909091\n"
     ]
    }
   ],
   "source": [
    "print(\"Pourcentage of documents in which alacak appears:\")\n",
    "print(sum(1 for v in dict_tokens21.values() if v != 0) / len(dict_tokens21))\n",
    "print(\"Pourcentage of documents in which deyn appears:\")\n",
    "print(sum(1 for v in dict_tokens22.values() if v != 0) / len(dict_tokens22))"
   ]
  },
  {
   "cell_type": "code",
   "execution_count": 17,
   "metadata": {},
   "outputs": [
    {
     "name": "stdout",
     "output_type": "stream",
     "text": [
      "High five! You successfully sent some data to your account on plotly. View your plot in your browser at https://plot.ly/~Istighna/0 or inside your plot.ly account where it is named 'grouped-bar'\n"
     ]
    },
    {
     "name": "stderr",
     "output_type": "stream",
     "text": [
      "/home/otzy/anaconda3/lib/python3.7/site-packages/IPython/core/display.py:689: UserWarning:\n",
      "\n",
      "Consider using IPython.display.IFrame instead\n",
      "\n"
     ]
    },
    {
     "data": {
      "text/html": [
       "<iframe id=\"igraph\" scrolling=\"no\" style=\"border:none;\" seamless=\"seamless\" src=\"https://plot.ly/~Istighna/0.embed\" height=\"525px\" width=\"100%\"></iframe>"
      ],
      "text/plain": [
       "<chart_studio.tools.PlotlyDisplay object>"
      ]
     },
     "execution_count": 17,
     "metadata": {},
     "output_type": "execute_result"
    }
   ],
   "source": [
    "import nltk\n",
    "import plotly\n",
    "import plotly.plotly as py\n",
    "import plotly.graph_objs as go\n",
    "plotly.tools.set_credentials_file(username='istighna', api_key='q8qyzG9m6vCrsuFPhQyM')\n",
    "trace1 = go.Bar(\n",
    "    x=['16th & 17th Centuries', 'Mid-18th Century', 'Late 18th Century'],\n",
    "    y=[0.2177293934681182, 0.09090909090909091, 0.0],\n",
    "    name='Deyn'\n",
    ")\n",
    "trace2 = go.Bar(\n",
    "    x=['16th & 17th Centuries', 'Mid-18th Century', 'Late 18th Century'],\n",
    "    y=[0.14618973561430793, 0.22077922077922077, 0.8048780487804879],\n",
    "    name='Alacak'\n",
    ")\n",
    "\n",
    "data = [trace1, trace2]\n",
    "layout = go.Layout(\n",
    "    barmode='group'\n",
    ")\n",
    "\n",
    "fig = go.Figure(data=data, layout=layout)\n",
    "py.iplot(fig, filename='grouped-bar')"
   ]
  },
  {
   "cell_type": "code",
   "execution_count": null,
   "metadata": {},
   "outputs": [],
   "source": []
  }
 ],
 "metadata": {
  "kernelspec": {
   "display_name": "Python 3",
   "language": "python",
   "name": "python3"
  },
  "language_info": {
   "codemirror_mode": {
    "name": "ipython",
    "version": 3
   },
   "file_extension": ".py",
   "mimetype": "text/x-python",
   "name": "python",
   "nbconvert_exporter": "python",
   "pygments_lexer": "ipython3",
   "version": "3.7.1"
  }
 },
 "nbformat": 4,
 "nbformat_minor": 2
}
